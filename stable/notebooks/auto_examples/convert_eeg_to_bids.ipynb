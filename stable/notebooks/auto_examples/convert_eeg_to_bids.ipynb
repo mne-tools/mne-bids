{
  "cells": [
    {
      "cell_type": "code",
      "execution_count": null,
      "metadata": {
        "collapsed": false
      },
      "outputs": [],
      "source": [
        "%matplotlib inline"
      ]
    },
    {
      "cell_type": "markdown",
      "metadata": {},
      "source": [
        "\n# 04. Convert EEG data to BIDS format\n\nIn this example, we use MNE-BIDS to create a BIDS-compatible directory of EEG\ndata. Specifically, we will follow these steps:\n\n1. Download some EEG data from the\n   `PhysioBank database <https://physionet.org/physiobank/database>`_.\n\n2. Load the data, extract information, and save it in a new BIDS directory.\n\n3. Check the result and compare it with the standard.\n\n4. Cite ``mne-bids``.\n\n.. currentmodule:: mne_bids\n\n"
      ]
    },
    {
      "cell_type": "code",
      "execution_count": null,
      "metadata": {
        "collapsed": false
      },
      "outputs": [],
      "source": [
        "# Authors: Stefan Appelhoff <stefan.appelhoff@mailbox.org>\n#\n# License: BSD (3-clause)"
      ]
    },
    {
      "cell_type": "markdown",
      "metadata": {},
      "source": [
        "We are importing everything we need for this example:\n\n"
      ]
    },
    {
      "cell_type": "code",
      "execution_count": null,
      "metadata": {
        "collapsed": false
      },
      "outputs": [],
      "source": [
        "import os\nimport shutil as sh\n\nimport mne\nfrom mne.datasets import eegbci\n\nfrom mne_bids import write_raw_bids, BIDSPath, print_dir_tree"
      ]
    },
    {
      "cell_type": "markdown",
      "metadata": {},
      "source": [
        "## Download the data\n\nFirst, we need some data to work with. We will use the\n`EEG Motor Movement/Imagery Dataset <https://doi.org/10.13026/C28G6P>`_\navailable on the PhysioBank database.\n\nThe data consists of 109 volunteers performing 14 experimental runs each.\nFor each subject, there were two baseline tasks (i) eyes open, (ii) eyes\nclosed, as well as four different motor imagery tasks.\n\nIn this example, we will download the data for a single subject doing the\nbaseline task \"eyes closed\" and format it to the Brain Imaging Data Structure\n(`BIDS <http://bids.neuroimaging.io/>`_).\n\nConveniently, there is already a data loading function available with\nMNE-Python:\n\n"
      ]
    },
    {
      "cell_type": "code",
      "execution_count": null,
      "metadata": {
        "collapsed": false
      },
      "outputs": [],
      "source": [
        "# Download the data for subject 1, for the 2 minutes of eyes closed rest task.\n# From the online documentation of the data we know that run \"2\" corresponds\n# to the \"eyes closed\" task.\nsubject = 1\nrun = 2\neegbci.load_data(subject=subject, runs=run, update_path=True)"
      ]
    },
    {
      "cell_type": "markdown",
      "metadata": {},
      "source": [
        "Let's see whether the data has been downloaded using a quick visualization\nof the directory tree.\n\n"
      ]
    },
    {
      "cell_type": "code",
      "execution_count": null,
      "metadata": {
        "collapsed": false
      },
      "outputs": [],
      "source": [
        "# get MNE directory with example data\nmne_data_dir = mne.get_config('MNE_DATASETS_EEGBCI_PATH')\ndata_dir = os.path.join(mne_data_dir, 'MNE-eegbci-data')\n\nprint_dir_tree(data_dir)"
      ]
    },
    {
      "cell_type": "markdown",
      "metadata": {},
      "source": [
        "The data are in the `European Data Format <https://www.edfplus.info/>`_ with\nthe ``.edf`` extension, which is good for us because next to the\n`BrainVision format`_, EDF is one of the recommended file formats for EEG\ndata in BIDS format.\n\nHowever, apart from the data format, we need to build a directory structure\nand supply meta data files to properly *bidsify* this data.\n\nWe will do exactly that in the next step.\n\n"
      ]
    },
    {
      "cell_type": "markdown",
      "metadata": {},
      "source": [
        "## Convert to BIDS\n\nLet's start with loading the data and extracting the events.\nWe are reading the data using MNE-Python's ``io`` module and the\n:func:`mne.io.read_raw_edf` function.\nNote that we must use the ``preload=False`` parameter, which is the default\nin MNE-Python.\nIt prevents the data from being loaded and modified when converting to BIDS.\n\n"
      ]
    },
    {
      "cell_type": "code",
      "execution_count": null,
      "metadata": {
        "collapsed": false
      },
      "outputs": [],
      "source": [
        "# Load the data from \"2 minutes eyes closed rest\"\nedf_path = eegbci.load_data(subject=subject, runs=run)[0]\nraw = mne.io.read_raw_edf(edf_path, preload=False)\nraw.info['line_freq'] = 50  # specify power line frequency as required by BIDS"
      ]
    },
    {
      "cell_type": "markdown",
      "metadata": {},
      "source": [
        "For the sake of the example we will also pretend that we have the electrode\ncoordinates for the data recordings.\nWe will use a coordinates file from the MNE testing data in `CapTrak`_\nformat.\n\n<div class=\"alert alert-info\"><h4>Note</h4><p>The ``*electrodes.tsv`` and ``*coordsystem.json`` files in BIDS are\n          intended to carry information about digitized (i.e., *measured*)\n          electrode positions on the scalp of the research subject. Do *not*\n          (!) use these files to store \"template\" or \"idealized\" electrode\n          positions, like those that can be obtained from\n          :func:`mne.channels.make_standard_montage`!</p></div>\n\n\n"
      ]
    },
    {
      "cell_type": "code",
      "execution_count": null,
      "metadata": {
        "collapsed": false
      },
      "outputs": [],
      "source": [
        "# Get the electrode coordinates\ntesting_data = mne.datasets.testing.data_path()\ncaptrak_path = os.path.join(testing_data, 'montage', 'captrak_coords.bvct')\nmontage = mne.channels.read_dig_captrak(captrak_path)\n\n# Rename the montage channel names only for this example, because as said\n# before, coordinate and EEG data were not actually collected together\n# Do *not* do this for your own data.\nmontage.rename_channels(dict(zip(montage.ch_names, raw.ch_names)))\n\n# \"attach\" the electrode coordinates to the `raw` object\nraw.set_montage(montage)\n\n# show the electrode positions\nraw.plot_sensors()"
      ]
    },
    {
      "cell_type": "markdown",
      "metadata": {},
      "source": [
        "With these steps, we have everything to start a new BIDS directory using\nour data.\n\nTo do that, we can use :func:`write_raw_bids`\n\nGenerally, :func:`write_raw_bids` tries to extract as much\nmeta data as possible from the raw data and then formats it in a BIDS\ncompatible way. :func:`write_raw_bids` takes a bunch of inputs, most of\nwhich are however optional. The required inputs are:\n\n* :code:`raw`\n* :code:`bids_basename`\n* :code:`bids_root`\n\n... as you can see in the docstring:\n\n"
      ]
    },
    {
      "cell_type": "code",
      "execution_count": null,
      "metadata": {
        "collapsed": false
      },
      "outputs": [],
      "source": [
        "print(write_raw_bids.__doc__)"
      ]
    },
    {
      "cell_type": "markdown",
      "metadata": {},
      "source": [
        "We loaded ``S001R02.edf``, which corresponds to subject 1 in the second run.\nIn the second run of the experiment, the task was to rest with closed eyes.\n\n"
      ]
    },
    {
      "cell_type": "code",
      "execution_count": null,
      "metadata": {
        "collapsed": false
      },
      "outputs": [],
      "source": [
        "# zero padding to account for >100 subjects in this dataset\nsubject_id = '001'\n\n# define a task name and a directory where to save the data to\ntask = 'RestEyesClosed'\nbids_root = os.path.join(mne_data_dir, 'eegmmidb_bids_eeg_example')\n\n# Start with a clean directory in case the directory existed beforehand\nsh.rmtree(bids_root, ignore_errors=True)"
      ]
    },
    {
      "cell_type": "markdown",
      "metadata": {},
      "source": [
        "The data contains annotations; which will be converted to events\nautomatically by MNE-BIDS when writing the BIDS data:\n\n"
      ]
    },
    {
      "cell_type": "code",
      "execution_count": null,
      "metadata": {
        "collapsed": false
      },
      "outputs": [],
      "source": [
        "print(raw.annotations)"
      ]
    },
    {
      "cell_type": "markdown",
      "metadata": {},
      "source": [
        "Finally, let's write the BIDS data!\n\n"
      ]
    },
    {
      "cell_type": "code",
      "execution_count": null,
      "metadata": {
        "collapsed": false
      },
      "outputs": [],
      "source": [
        "bids_path = BIDSPath(subject=subject_id, task=task, root=bids_root)\nwrite_raw_bids(raw, bids_path, overwrite=True)"
      ]
    },
    {
      "cell_type": "markdown",
      "metadata": {},
      "source": [
        "What does our fresh BIDS directory look like?\n\n"
      ]
    },
    {
      "cell_type": "code",
      "execution_count": null,
      "metadata": {
        "collapsed": false
      },
      "outputs": [],
      "source": [
        "print_dir_tree(bids_root)"
      ]
    },
    {
      "cell_type": "markdown",
      "metadata": {},
      "source": [
        "We can see that MNE-BIDS wrote several important files related to subject 1\nfor us:\n\n* ``electrodes.tsv`` containing the electrode coordinates and\n  ``coordsystem.json``, which contains the metadata about the electrode\n  coordinates.\n* The actual EDF data file (now with a proper BIDS name) and an accompanying\n  ``*_eeg.json`` file that contains metadata about the EEG recording.\n* The ``*scans.json`` file lists all data recordings with their acquisition\n  date. This file becomes more handy once there are multiple sessions and\n  recordings to keep track of.\n* And finally, ``channels.tsv`` and ``events.tsv`` which contain even further\n  metadata.\n\nNext to the subject specific files, MNE-BIDS also created several experiment\nspecific files. However, we will not go into detail for them in this example.\n\n## Cite mne-bids\nAfter a lot of work was done by MNE-BIDS, it's fair to cite the software\nwhen preparing a manuscript and/or a dataset publication.\n\nWe can see that the appropriate citations are already written in the\n``README`` file.\n\nIf you are preparing a manuscript, please make sure to also cite MNE-BIDS\nthere.\n\n"
      ]
    },
    {
      "cell_type": "code",
      "execution_count": null,
      "metadata": {
        "collapsed": false
      },
      "outputs": [],
      "source": [
        "readme = os.path.join(bids_root, 'README')\nwith open(readme, 'r') as fid:\n    text = fid.read()\nprint(text)"
      ]
    },
    {
      "cell_type": "markdown",
      "metadata": {},
      "source": [
        "Now it's time to manually check the BIDS directory and the meta files to add\nall the information that MNE-BIDS could not infer. For instance, you must\ndescribe EEGReference and EEGGround yourself. It's easy to find these by\nsearching for \"n/a\" in the sidecar files.\n\nRemember that there is a convenient javascript tool to validate all your BIDS\ndirectories called the \"BIDS-validator\", available as a web version and a\ncommand line tool:\n\nWeb version: https://bids-standard.github.io/bids-validator/\n\nCommand line tool: https://www.npmjs.com/package/bids-validator\n\n"
      ]
    }
  ],
  "metadata": {
    "kernelspec": {
      "display_name": "Python 3",
      "language": "python",
      "name": "python3"
    },
    "language_info": {
      "codemirror_mode": {
        "name": "ipython",
        "version": 3
      },
      "file_extension": ".py",
      "mimetype": "text/x-python",
      "name": "python",
      "nbconvert_exporter": "python",
      "pygments_lexer": "ipython3",
      "version": "3.8.6"
    }
  },
  "nbformat": 4,
  "nbformat_minor": 0
}