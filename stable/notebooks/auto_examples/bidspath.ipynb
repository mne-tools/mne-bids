{
  "cells": [
    {
      "cell_type": "code",
      "execution_count": null,
      "metadata": {
        "collapsed": false
      },
      "outputs": [],
      "source": [
        "%matplotlib inline"
      ]
    },
    {
      "cell_type": "markdown",
      "metadata": {},
      "source": [
        "\n# 10. An introduction to BIDSPath\n\nBIDSPath is MNE-BIDS's working horse when it comes to file and folder\noperations. Learn here how to use it.\n"
      ]
    },
    {
      "cell_type": "code",
      "execution_count": null,
      "metadata": {
        "collapsed": false
      },
      "outputs": [],
      "source": [
        "# Author: Richard H\u00f6chenberger <richard.hoechenberger@gmail.com>\n# License: BSD (3-clause)"
      ]
    },
    {
      "cell_type": "markdown",
      "metadata": {},
      "source": [
        "Obviously, to start exploring BIDSPath, we first need to import it.\n\n"
      ]
    },
    {
      "cell_type": "code",
      "execution_count": null,
      "metadata": {
        "collapsed": false
      },
      "outputs": [],
      "source": [
        "from mne_bids import BIDSPath"
      ]
    },
    {
      "cell_type": "markdown",
      "metadata": {},
      "source": [
        "Now let's discuss a little bit of background on the BIDS file and folder\nnaming scheme. The first term we are going to introduce is the **BIDS root**.\nThe BIDS root is simply the root folder of your BIDS dataset. For\nexample, if the BIDS data of one of your studies is stored in\n`/Users/me/Studies/Study_01`, then this will be the BIDS root.\n\nSimilarly, if you have **no** BIDS dataset to begin with, you need to\nconsider where to store your data upon BIDS conversion. Again, the intended\ntarget folder will be the BIDS root of your data.\n\nLet's just pick an arbitrary BIDS root, for the purpose of this\ndemonstration.\n\n"
      ]
    },
    {
      "cell_type": "code",
      "execution_count": null,
      "metadata": {
        "collapsed": false
      },
      "outputs": [],
      "source": [
        "bids_root = './my_bids_root'"
      ]
    },
    {
      "cell_type": "markdown",
      "metadata": {},
      "source": [
        "This refers to a folder named `my_bids_root` in the current working\ndirectory. Finally, let is create a ``BIDSPath``, and tell it about our\nBIDS root. We can then also query the ``BIDSPath`` for its root.\n\n"
      ]
    },
    {
      "cell_type": "code",
      "execution_count": null,
      "metadata": {
        "collapsed": false
      },
      "outputs": [],
      "source": [
        "bids_path = BIDSPath(root=bids_root)\nprint(bids_path.root)"
      ]
    },
    {
      "cell_type": "markdown",
      "metadata": {},
      "source": [
        "Great! But not really useful so far. BIDS also asks us to specify **subject\nidentifiers**. We can either create a new ``BIDSPath``, or update our\nexisting one. The value can be retrieved via the ``.subject`` attribute.\n\n"
      ]
    },
    {
      "cell_type": "code",
      "execution_count": null,
      "metadata": {
        "collapsed": false
      },
      "outputs": [],
      "source": [
        "subject = '123'\n\n# Option 1: Create an entirely new BIDSPath.\nbids_path_new = BIDSPath(subject=subject, root=bids_root)\nprint(bids_path_new.subject)\n\n# Option 2: Update the existing BIDSPath in-place.\nbids_path.update(subject=subject)\nprint(bids_path.subject)"
      ]
    },
    {
      "cell_type": "markdown",
      "metadata": {},
      "source": [
        "In this example, we are going to update the existing ``BIDSPath`` using its\n``update()`` method. But note that all parameters we pass to this method can\nalso be used when creating a ``BIDSPath``.\n\nMany studies consist of multiple **sessions**. As you may have guessed,\nBIDS specifies how to store data for each session, and consequently,\n``BIDSPath`` handles this for you too! Let's update our ``BIDSPath`` with\ninformation on our experimental session, and try to retrieve it again via\n``.session``.\n\n"
      ]
    },
    {
      "cell_type": "code",
      "execution_count": null,
      "metadata": {
        "collapsed": false
      },
      "outputs": [],
      "source": [
        "session = 'test'\nbids_path.update(session=session)\nprint(bids_path.session)"
      ]
    },
    {
      "cell_type": "markdown",
      "metadata": {},
      "source": [
        "Now that was easy! We're almost there! We also need to specify a\n**data type**, i.e., ``meg`` for MEG data, ``eeg`` and ``ieeg`` for EEG and\niEEG data, or ``anat`` for anatomical MRI scans. Typically, MNE-BIDS will\ninfer the data type of your data automatically, for example when writing data\nusing `mne_bids.write_raw_bids`. For the sake of this example, however, we\nare going to specify the data type explicitly.\n\n"
      ]
    },
    {
      "cell_type": "code",
      "execution_count": null,
      "metadata": {
        "collapsed": false
      },
      "outputs": [],
      "source": [
        "datatype = 'meg'\nbids_path.update(datatype=datatype)\nprint(bids_path.datatype)"
      ]
    },
    {
      "cell_type": "markdown",
      "metadata": {},
      "source": [
        "Excellent! Let's have a look at the path we have constructed!\n\n"
      ]
    },
    {
      "cell_type": "code",
      "execution_count": null,
      "metadata": {
        "collapsed": false
      },
      "outputs": [],
      "source": [
        "print(bids_path)"
      ]
    },
    {
      "cell_type": "markdown",
      "metadata": {},
      "source": [
        "As you can see, ``BIDSPath`` automatically arranged all the information we\nprovided such that it creates a valid BIDS folder structure. You can also\nretrieve a `pathlib.Path` object of this path:\n\n"
      ]
    },
    {
      "cell_type": "code",
      "execution_count": null,
      "metadata": {
        "collapsed": false
      },
      "outputs": [],
      "source": [
        "pathlib_path = bids_path.fpath\npathlib_path"
      ]
    },
    {
      "cell_type": "markdown",
      "metadata": {},
      "source": [
        "Let's have a closer look at the components of our ``BIDSPath`` again.\n\n"
      ]
    },
    {
      "cell_type": "code",
      "execution_count": null,
      "metadata": {
        "collapsed": false
      },
      "outputs": [],
      "source": [
        "bids_path"
      ]
    },
    {
      "cell_type": "markdown",
      "metadata": {},
      "source": [
        "The most interesting thing here is probably the **basename**. It's what\nMNE-BIDS uses to name individual files. The basename consists of a set of\nso-called **entities**, which are concatenated using underscores. You can\naccess it directly:\n\n"
      ]
    },
    {
      "cell_type": "code",
      "execution_count": null,
      "metadata": {
        "collapsed": false
      },
      "outputs": [],
      "source": [
        "bids_path.basename"
      ]
    },
    {
      "cell_type": "markdown",
      "metadata": {},
      "source": [
        "The two entities you can see here are the ``subject`` entity (``sub``) and\nthe ``session`` entity (``ses``). Each entity name also has a value; for\n``sub``, this is ``123``, and for ``ses``, it is ``test`` in our example.\nEntity names (or \"keys\") and values are separated via hyphens.\nBIDS knows a much larger number of entities, and MNE-BIDS allows you to make\nuse of them. To get a list of all supported entities, use:\n\n"
      ]
    },
    {
      "cell_type": "code",
      "execution_count": null,
      "metadata": {
        "collapsed": false
      },
      "outputs": [],
      "source": [
        "bids_path.entities"
      ]
    },
    {
      "cell_type": "markdown",
      "metadata": {},
      "source": [
        "As you can see, most entity keys are set to ``None``, which is the default\nand implies that no value has been set. Let us add a ``run`` entity, and\nremove the ``session``:\n\n"
      ]
    },
    {
      "cell_type": "code",
      "execution_count": null,
      "metadata": {
        "collapsed": false
      },
      "outputs": [],
      "source": [
        "run = '01'\nsession = None\nbids_path.update(run=run, session=session)\nbids_path"
      ]
    },
    {
      "cell_type": "markdown",
      "metadata": {},
      "source": [
        "As you can see, the ``basename`` has been updated. In fact, the entire\n**path** has been updated, and the ``ses-test`` folder has been dropped from\nthe path:\n\n"
      ]
    },
    {
      "cell_type": "code",
      "execution_count": null,
      "metadata": {
        "collapsed": false
      },
      "outputs": [],
      "source": [
        "print(bids_path.fpath)"
      ]
    },
    {
      "cell_type": "markdown",
      "metadata": {},
      "source": [
        "Awesome! We're almost done! Two important things are still missing, though:\nthe so-called **suffix** and the filename **extension**. Sometimes these\nterms are used interchangably, but in BIDS, they have a very specific\nand different meaning!\n\nThe **suffix** is the last part of a BIDS filename before the extension. It\nis the same as the datatype for MEG, EEG, and iEEG recordings (i.e.\n``meg``, ``eeg``, and ``ieeg``, respectively) and ``T1w`` for T1-weighted\nMRI scans. But the suffix is also used to create the names of sidecar files\nlike ``*_events.tsv``.\n\nWhich brings us directly to the **extension**: the very last part of a\nfilename. In MNE-BIDS, the extension contains a leading period, e.g.\n``.tsv``.\nLet's put our new knowledge to use!\n\n"
      ]
    },
    {
      "cell_type": "code",
      "execution_count": null,
      "metadata": {
        "collapsed": false
      },
      "outputs": [],
      "source": [
        "bids_path.update(suffix='meg', extension='fif')\nprint(bids_path.fpath)\nbids_path"
      ]
    },
    {
      "cell_type": "markdown",
      "metadata": {},
      "source": [
        "By default, most MNE-BIDS functions will try to infer to correct\nsuffix and extension for your data, and you don't need to specify them\nmanually.\n\n"
      ]
    }
  ],
  "metadata": {
    "kernelspec": {
      "display_name": "Python 3",
      "language": "python",
      "name": "python3"
    },
    "language_info": {
      "codemirror_mode": {
        "name": "ipython",
        "version": 3
      },
      "file_extension": ".py",
      "mimetype": "text/x-python",
      "name": "python",
      "nbconvert_exporter": "python",
      "pygments_lexer": "ipython3",
      "version": "3.8.6"
    }
  },
  "nbformat": 4,
  "nbformat_minor": 0
}