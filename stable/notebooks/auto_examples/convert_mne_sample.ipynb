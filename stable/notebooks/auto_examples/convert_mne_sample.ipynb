{
  "cells": [
    {
      "cell_type": "code",
      "execution_count": null,
      "metadata": {
        "collapsed": false
      },
      "outputs": [],
      "source": [
        "%matplotlib inline"
      ]
    },
    {
      "cell_type": "markdown",
      "metadata": {},
      "source": [
        "\n.. currentmodule:: mne_bids\n\n\n# 02. Convert MNE sample data to BIDS format\n\nIn this example we will use MNE-BIDS to organize the MNE sample data according\nto the BIDS standard.\nIn a second step we will read the organized dataset using MNE-BIDS.\n"
      ]
    },
    {
      "cell_type": "code",
      "execution_count": null,
      "metadata": {
        "collapsed": false
      },
      "outputs": [],
      "source": [
        "# Authors: Mainak Jas <mainak.jas@telecom-paristech.fr>\n#          Alexandre Gramfort <alexandre.gramfort@telecom-paristech.fr>\n#          Teon Brooks <teon.brooks@gmail.com>\n#          Stefan Appelhoff <stefan.appelhoff@mailbox.org>\n#          Richard H\u00f6chenberger <richard.hoechenberger@gmail.com>\n#\n# License: BSD (3-clause)"
      ]
    },
    {
      "cell_type": "markdown",
      "metadata": {},
      "source": [
        "First we import some basic Python libraries, followed by MNE-Python and its\nsample data, and then finally the MNE-BIDS functions we need for this example\n\n"
      ]
    },
    {
      "cell_type": "code",
      "execution_count": null,
      "metadata": {
        "collapsed": false
      },
      "outputs": [],
      "source": [
        "import os.path as op\n\nimport mne\nfrom mne.datasets import sample\n\nfrom mne_bids import (write_raw_bids, read_raw_bids, write_meg_calibration,\n                      write_meg_crosstalk, BIDSPath, print_dir_tree)"
      ]
    },
    {
      "cell_type": "markdown",
      "metadata": {},
      "source": [
        "Now we can read the MNE sample data. We define an `event_id` based on our\nknowledge of the data, to give meaning to events in the data.\n\nWith `raw_fname` and `events_data`, we determine where to get the sample data\nfrom. `output_path` determines where we will write the BIDS conversion to.\n\n"
      ]
    },
    {
      "cell_type": "code",
      "execution_count": null,
      "metadata": {
        "collapsed": false
      },
      "outputs": [],
      "source": [
        "data_path = sample.data_path()\nevent_id = {'Auditory/Left': 1, 'Auditory/Right': 2, 'Visual/Left': 3,\n            'Visual/Right': 4, 'Smiley': 5, 'Button': 32}\n\nraw_fname = op.join(data_path, 'MEG', 'sample', 'sample_audvis_raw.fif')\nevents_data = op.join(data_path, 'MEG', 'sample', 'sample_audvis_raw-eve.fif')\noutput_path = op.join(data_path, '..', 'MNE-sample-data-bids')"
      ]
    },
    {
      "cell_type": "markdown",
      "metadata": {},
      "source": [
        "<div class=\"alert alert-info\"><h4>Note</h4><p>``mne-bids`` will try to infer as much information from the data as\n  possible to then save this data in BIDS-specific \"sidecar\" files. For\n  example the manufacturer information, which is inferred from the data file\n  extension. However, sometimes inferring is ambiguous (e.g., if your file\n  format is non-standard for the manufacturer). In these cases, MNE-BIDS does\n  *not* guess and you will have to update your BIDS fields manually.</p></div>\n\nBased on our path definitions above, we read the raw data file, define\na new BIDS name for it, and then run the automatic BIDS conversion.\n\n"
      ]
    },
    {
      "cell_type": "code",
      "execution_count": null,
      "metadata": {
        "collapsed": false
      },
      "outputs": [],
      "source": [
        "raw = mne.io.read_raw_fif(raw_fname)\nraw.info['line_freq'] = 60  # specify power line frequency as required by BIDS\n\nbids_path = BIDSPath(subject='01', session='01',\n                     task='audiovisual', run='01', root=output_path)\nwrite_raw_bids(raw, bids_path, events_data=events_data,\n               event_id=event_id, overwrite=True)"
      ]
    },
    {
      "cell_type": "markdown",
      "metadata": {},
      "source": [
        "The sample MEG dataset comes with fine-calibration and crosstalk files that\nare required when processing Elekta/Neuromag/MEGIN data using MaxFilter\u00ae.\nLet's store these data in appropriate places, too.\n\n"
      ]
    },
    {
      "cell_type": "code",
      "execution_count": null,
      "metadata": {
        "collapsed": false
      },
      "outputs": [],
      "source": [
        "cal_fname = op.join(data_path, 'SSS', 'sss_cal_mgh.dat')\nct_fname = op.join(data_path, 'SSS', 'ct_sparse_mgh.fif')\n\nwrite_meg_calibration(cal_fname, bids_path)\nwrite_meg_crosstalk(ct_fname, bids_path)"
      ]
    },
    {
      "cell_type": "markdown",
      "metadata": {},
      "source": [
        "Now let's see the structure of the BIDS folder we created.\n\n"
      ]
    },
    {
      "cell_type": "code",
      "execution_count": null,
      "metadata": {
        "collapsed": false
      },
      "outputs": [],
      "source": [
        "print_dir_tree(output_path)"
      ]
    },
    {
      "cell_type": "markdown",
      "metadata": {},
      "source": [
        "A big advantage of having data organized according to BIDS is that software\npackages can automate your workflow. For example, reading the data back\ninto MNE-Python can easily be done using :func:`read_raw_bids`.\n\n"
      ]
    },
    {
      "cell_type": "code",
      "execution_count": null,
      "metadata": {
        "collapsed": false
      },
      "outputs": [],
      "source": [
        "raw = read_raw_bids(bids_path=bids_path)"
      ]
    },
    {
      "cell_type": "markdown",
      "metadata": {},
      "source": [
        "The resulting data is already in a convenient form to create epochs and\nevoked data.\n\n"
      ]
    },
    {
      "cell_type": "code",
      "execution_count": null,
      "metadata": {
        "collapsed": false
      },
      "outputs": [],
      "source": [
        "events, event_id = mne.events_from_annotations(raw)\nepochs = mne.Epochs(raw, events, event_id)\nepochs['Auditory'].average().plot()"
      ]
    },
    {
      "cell_type": "markdown",
      "metadata": {},
      "source": [
        "It is trivial to retrieve the path of the fine-calibration and crosstalk\nfiles, too.\n\n"
      ]
    },
    {
      "cell_type": "code",
      "execution_count": null,
      "metadata": {
        "collapsed": false
      },
      "outputs": [],
      "source": [
        "print(bids_path.meg_calibration_fpath)\nprint(bids_path.meg_crosstalk_fpath)"
      ]
    },
    {
      "cell_type": "markdown",
      "metadata": {},
      "source": [
        "The README created by :func:`write_raw_bids` also takes care of the citation\nfor mne-bids. If you are preparing a manuscript, please make sure to also\ncite MNE-BIDS there.\n\n"
      ]
    },
    {
      "cell_type": "code",
      "execution_count": null,
      "metadata": {
        "collapsed": false
      },
      "outputs": [],
      "source": [
        "readme = op.join(output_path, 'README')\nwith open(readme, 'r') as fid:\n    text = fid.read()\nprint(text)"
      ]
    }
  ],
  "metadata": {
    "kernelspec": {
      "display_name": "Python 3",
      "language": "python",
      "name": "python3"
    },
    "language_info": {
      "codemirror_mode": {
        "name": "ipython",
        "version": 3
      },
      "file_extension": ".py",
      "mimetype": "text/x-python",
      "name": "python",
      "nbconvert_exporter": "python",
      "pygments_lexer": "ipython3",
      "version": "3.8.6"
    }
  },
  "nbformat": 4,
  "nbformat_minor": 0
}