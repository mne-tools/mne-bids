{
  "cells": [
    {
      "cell_type": "code",
      "execution_count": null,
      "metadata": {
        "collapsed": false
      },
      "outputs": [],
      "source": [
        "%matplotlib inline"
      ]
    },
    {
      "cell_type": "markdown",
      "metadata": {},
      "source": [
        "\n# 06. Rename BrainVision EEG data files\n\nAccording to the EEG extension to BIDS [1]_, the `BrainVision data format`_ is\none of the recommended formats to store EEG data within a BIDS dataset.\n\nTo organize EEG data in BIDS format, it is often necessary to rename the files.\nIn the case of BrainVision files, we would have to rename multiple files for\neach recording:\n\n1. A text header file (``.vhdr``) containing meta data\n2. A text marker file (``.vmrk``) containing information about events in the\n   data\n3. A binary data file (``.eeg``) containing the voltage values of the EEG\n\n.. Note:: The three files contain references that guide the data reading\n          software. Simply *renaming* the files without adjusting these\n          references will corrupt the dataset! But relax, MNE-BIDS can take\n          care of this for you.\n\nIn this example, we use MNE-BIDS to rename BrainVision data files including a\nrepair of the internal file links\n\nFor the command line version of this tool, see the :code:`cp` tool in the docs\nfor the `Python Command Line Interface <python_cli>`.\n\n## References\n.. [1] Pernet, C.R., Appelhoff, S., Gorgolewski, K.J. et al. EEG-BIDS, an\n       extension to the brain imaging data structure for\n       electroencephalography. Sci Data 6, 103 (2019).\n       https://doi.org/10.1038/s41597-019-0104-8\n"
      ]
    },
    {
      "cell_type": "code",
      "execution_count": null,
      "metadata": {
        "collapsed": false
      },
      "outputs": [],
      "source": [
        "# Authors: Stefan Appelhoff <stefan.appelhoff@mailbox.org>\n#\n# License: BSD (3-clause)"
      ]
    },
    {
      "cell_type": "markdown",
      "metadata": {},
      "source": [
        "We are importing everything we need for this example:\n\n"
      ]
    },
    {
      "cell_type": "code",
      "execution_count": null,
      "metadata": {
        "collapsed": false
      },
      "outputs": [],
      "source": [
        "import os.path as op\n\nimport mne\n\nfrom mne_bids.copyfiles import copyfile_brainvision"
      ]
    },
    {
      "cell_type": "markdown",
      "metadata": {},
      "source": [
        "## Download some example data\nTo demonstrate the MNE-BIDS functions, we need some testing data. Here, we\nwill use the MNE-Python testing data. Feel free to use your own BrainVision\ndata.\n\n<div class=\"alert alert-danger\"><h4>Warning</h4><p>This will download 1.6 GB of data!</p></div>\n\n"
      ]
    },
    {
      "cell_type": "code",
      "execution_count": null,
      "metadata": {
        "collapsed": false
      },
      "outputs": [],
      "source": [
        "data_path = mne.datasets.testing.data_path()\nexamples_dir = op.join(data_path, 'Brainvision')"
      ]
    },
    {
      "cell_type": "markdown",
      "metadata": {},
      "source": [
        "## Rename the recording\nAbove, at the top of the example, we imported\n:func:`mne_bids.copyfiles.copyfile_brainvision` from\nthe MNE-BIDS ``mne_bids/copyfiles.py`` module. This function takes two\nmain inputs:\nFirst, the path to the existing ``.vhdr`` file. And second, the path to\nthe future ``.vhdr`` file.\n\nWith the optional ``verbose`` parameter you can furthermore determine how\nmuch information you want to get during the procedure.\n\n:func:`mne_bids.copyfiles.copyfile_brainvision` will then create three new\nfiles (``.vhdr``, ``.vmrk``, and ``.eeg``) with the new names as provided\nwith the second argument.\n\nHere, we rename a test file name:\n\n"
      ]
    },
    {
      "cell_type": "code",
      "execution_count": null,
      "metadata": {
        "collapsed": false
      },
      "outputs": [],
      "source": [
        "# Rename the file\nvhdr_file = op.join(examples_dir, 'Analyzer_nV_Export.vhdr')\nvhdr_file_renamed = op.join(examples_dir, 'test_renamed.vhdr')\ncopyfile_brainvision(vhdr_file, vhdr_file_renamed, verbose=True)\n\n# Check that MNE-Python can read in both, the original as well as the renamed\n# data (two files: their contents are the same apart from the name)\nraw = mne.io.read_raw_brainvision(vhdr_file)\nraw_renamed = mne.io.read_raw_brainvision(vhdr_file_renamed)"
      ]
    },
    {
      "cell_type": "markdown",
      "metadata": {},
      "source": [
        "## Further information\n\nFor converting data files, or writing new data to the BrainVision format, you\ncan use the `pybv`_ Python package.\n\nThere is node JS tool to check the integrity of your BrainVision files.\nFor that, see the `BrainVision Validator <bv-validator_>`_\n\n\n"
      ]
    }
  ],
  "metadata": {
    "kernelspec": {
      "display_name": "Python 3",
      "language": "python",
      "name": "python3"
    },
    "language_info": {
      "codemirror_mode": {
        "name": "ipython",
        "version": 3
      },
      "file_extension": ".py",
      "mimetype": "text/x-python",
      "name": "python",
      "nbconvert_exporter": "python",
      "pygments_lexer": "ipython3",
      "version": "3.8.6"
    }
  },
  "nbformat": 4,
  "nbformat_minor": 0
}