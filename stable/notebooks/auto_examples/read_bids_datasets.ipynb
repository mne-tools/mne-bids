{
  "cells": [
    {
      "cell_type": "code",
      "execution_count": null,
      "metadata": {
        "collapsed": false
      },
      "outputs": [],
      "source": [
        "%matplotlib inline"
      ]
    },
    {
      "cell_type": "markdown",
      "metadata": {},
      "source": [
        "\n# 01. Read BIDS datasets\n\nWhen working with electrophysiological data in the BIDS format, we usually have\nvarying data types, which can be loaded via the ``read_raw_bids`` function.\n\n- MEG\n- EEG (scalp electrodes)\n- iEEG (ECoG and SEEG)\n- the anatomical MRI scan of a study participant\n\nIn this tutorial, we show how ``read_raw_bids`` can be used to load and\ninspect BIDS-formatted data.\n"
      ]
    },
    {
      "cell_type": "code",
      "execution_count": null,
      "metadata": {
        "collapsed": false
      },
      "outputs": [],
      "source": [
        "# Authors: Adam Li <adam2392@gmail.com>\n#          Richard H\u00f6chenberger <richard.hoechenberger@gmail.com>\n#\n# License: BSD (3-clause)"
      ]
    },
    {
      "cell_type": "markdown",
      "metadata": {},
      "source": [
        "   :depth: 1\n\n## Imports\nWe are importing everything we need for this example:\n\n"
      ]
    },
    {
      "cell_type": "code",
      "execution_count": null,
      "metadata": {
        "collapsed": false
      },
      "outputs": [],
      "source": [
        "from mne.datasets import somato\n\nfrom mne_bids import BIDSPath, read_raw_bids, print_dir_tree, make_report"
      ]
    },
    {
      "cell_type": "markdown",
      "metadata": {},
      "source": [
        "We will be using the `MNE somato data <mne_somato_data_>`_, which\nis already stored in BIDS format.\nFor more information, you can check out the\nrespective `example <ex-convert-mne-sample>`.\n\n"
      ]
    },
    {
      "cell_type": "markdown",
      "metadata": {},
      "source": [
        "## Download the ``somato`` BIDS dataset\n\nDownload the data if it hasn't been downloaded already, and return the path\nto the download directory. This directory is the so-called `root` of this\nBIDS dataset.\n\n"
      ]
    },
    {
      "cell_type": "code",
      "execution_count": null,
      "metadata": {
        "collapsed": false
      },
      "outputs": [],
      "source": [
        "bids_root = somato.data_path()"
      ]
    },
    {
      "cell_type": "markdown",
      "metadata": {},
      "source": [
        "## Explore the dataset contents\n\nWe can use MNE-BIDS to print a tree of all\nincluded files and folders. We pass the ``max_depth`` parameter to\n`mne_bids.print_dir_tree` to the output to three levels of folders, for\nbetter readability in this example.\n\n"
      ]
    },
    {
      "cell_type": "code",
      "execution_count": null,
      "metadata": {
        "collapsed": false
      },
      "outputs": [],
      "source": [
        "print_dir_tree(bids_root, max_depth=3)"
      ]
    },
    {
      "cell_type": "markdown",
      "metadata": {},
      "source": [
        "We can even ask MNE-BIDS to produce a human-readbale summary report\non the dataset contents.\n\n"
      ]
    },
    {
      "cell_type": "code",
      "execution_count": null,
      "metadata": {
        "collapsed": false
      },
      "outputs": [],
      "source": [
        "print(make_report(bids_root))"
      ]
    },
    {
      "cell_type": "markdown",
      "metadata": {},
      "source": [
        "Now it's time to get ready for reading some of the data! First, we need to\ncreate a `mne_bids.BIDSPath`, which is the working horse object of MNE-BIDS\nwhen it comes to file and folder operations.\n\nFor now, we're interested only in the MEG data in the BIDS root directory\nof the ``somato`` dataset.\n\n"
      ]
    },
    {
      "cell_type": "code",
      "execution_count": null,
      "metadata": {
        "collapsed": false
      },
      "outputs": [],
      "source": [
        "datatype = 'meg'\nbids_path = BIDSPath(root=bids_root, datatype=datatype)"
      ]
    },
    {
      "cell_type": "markdown",
      "metadata": {},
      "source": [
        "We can now retrieve a list of all MEG-related files in the dataset:\n\n"
      ]
    },
    {
      "cell_type": "code",
      "execution_count": null,
      "metadata": {
        "collapsed": false
      },
      "outputs": [],
      "source": [
        "print(bids_path.match())"
      ]
    },
    {
      "cell_type": "markdown",
      "metadata": {},
      "source": [
        "The returned list contains ``BIDSpaths`` of 3 files:\n``sub-01_task-somato_channels.tsv``, ``sub-01_task-somato_events.tsv``, and\n``sub-01_task-somato_meg.fif``.\nThe first two are so-called sidecar files that contain information on the\nrecording channels and experimental events, and the third one is the actual\nMEG data file.\n\n## Prepare reading the data\n\nThere is obviously only one subject (``01``) and one experimental task\n(``somato``). Let's use this knowledge to create a new ``BIDSPath`` with\nall the information required to actually read the MEG data. We also need to\npass a ``suffix``, which is the last part of the filename just before the\nextension -- ``'channels'`` and ``'events'`` for the two TSV files in\nour example, and ``'meg'`` for MEG raw data. For MEG and EEG raw data, the\nsuffix is identical to the datatype, so don't let yourselve be confused here!\n\n"
      ]
    },
    {
      "cell_type": "code",
      "execution_count": null,
      "metadata": {
        "collapsed": false
      },
      "outputs": [],
      "source": [
        "bids_root = somato.data_path()\ndatatype = 'meg'\nsubject = '01'\ntask = 'somato'\nsuffix = 'meg'\n\nbids_path = BIDSPath(subject=subject, task=task, suffix=suffix,\n                     datatype=datatype, root=bids_root)"
      ]
    },
    {
      "cell_type": "markdown",
      "metadata": {},
      "source": [
        "Now let's print the contents of ``bids_path``.\n\n"
      ]
    },
    {
      "cell_type": "code",
      "execution_count": null,
      "metadata": {
        "collapsed": false
      },
      "outputs": [],
      "source": [
        "print(bids_path)"
      ]
    },
    {
      "cell_type": "markdown",
      "metadata": {},
      "source": [
        "You probably noticed two things: Firstly, this looks like an ordinary string\nnow, not like the more-or-less neatly formatted output we saw before. And\nsecondly, that there's suddenly a filename extension which we never specified\nanywhere!\n\nThe reason is that when you call ``print(bids_path)``, ``BIDSPath`` returns\na string representation of ``BIDSPath.fpath``, which looks different. If,\ninstead, you simply typed ``bids_path`` (or ``print(repr(bids_path))``, which\nis the same) into your Python console, you would get the nicely formatted\noutput:\n\n"
      ]
    },
    {
      "cell_type": "code",
      "execution_count": null,
      "metadata": {
        "collapsed": false
      },
      "outputs": [],
      "source": [
        "bids_path"
      ]
    },
    {
      "cell_type": "markdown",
      "metadata": {},
      "source": [
        "The ``root`` here is \u2013\u00a0you guessed it \u2013 the directory we passed via the\n``root`` parameter: the \"home\" of our BIDS dataset. The ``datatype``, again,\nis self-explanatory. The ``basename``, on the other hand, is created\nautomatically based on the suffix and **BIDS entities**  we passed to\n``BIDSPath``: in our case, ``subject`` and ``task``.\n\n<div class=\"alert alert-info\"><h4>Note</h4><p>There are many more supported entities, the most-commonly used among them\n  probably being ``session``. Please see\n  `our introduction to BIDSPath <bidspath>`_ to learn more\n  about entities, ``basename``, and ``BIDSPath`` in general.</p></div>\n\nBut what about that filename extension, now? ``BIDSPath.fpath``, which \u2013\nas you hopefully remember \u2013\u00a0is invoked when you run ``print(bids_path)`` \u2013\nemploys some heuristics to auto-detect some missing filename components.\nOmitting the filename extension in your script can make your code\nmore portable. Note that, however, you **can** explicitly specify an\nextension too, by passing e.g. ``extension='.fif'`` to ``BIDSPath``.\n\n"
      ]
    },
    {
      "cell_type": "markdown",
      "metadata": {},
      "source": [
        "## Read the data\n\nLet's read the data! It's just a single line of code.\n\n"
      ]
    },
    {
      "cell_type": "code",
      "execution_count": null,
      "metadata": {
        "collapsed": false
      },
      "outputs": [],
      "source": [
        "raw = read_raw_bids(bids_path=bids_path, verbose=False)"
      ]
    },
    {
      "cell_type": "markdown",
      "metadata": {},
      "source": [
        "Now we can inspect the ``raw`` object to check that it contains to correct\nmetadata.\n\nBasic subject metadata is here.\n\n"
      ]
    },
    {
      "cell_type": "code",
      "execution_count": null,
      "metadata": {
        "collapsed": false
      },
      "outputs": [],
      "source": [
        "print(raw.info['subject_info'])"
      ]
    },
    {
      "cell_type": "markdown",
      "metadata": {},
      "source": [
        "Power line frequency is here.\n\n"
      ]
    },
    {
      "cell_type": "code",
      "execution_count": null,
      "metadata": {
        "collapsed": false
      },
      "outputs": [],
      "source": [
        "print(raw.info['line_freq'])"
      ]
    },
    {
      "cell_type": "markdown",
      "metadata": {},
      "source": [
        "Sampling frequency is here.\n\n"
      ]
    },
    {
      "cell_type": "code",
      "execution_count": null,
      "metadata": {
        "collapsed": false
      },
      "outputs": [],
      "source": [
        "print(raw.info['sfreq'])"
      ]
    },
    {
      "cell_type": "markdown",
      "metadata": {},
      "source": [
        "Events are now Annotations\n\n"
      ]
    },
    {
      "cell_type": "code",
      "execution_count": null,
      "metadata": {
        "collapsed": false
      },
      "outputs": [],
      "source": [
        "print(raw.annotations)"
      ]
    },
    {
      "cell_type": "markdown",
      "metadata": {},
      "source": [
        "Plot the raw data.\n\n"
      ]
    },
    {
      "cell_type": "code",
      "execution_count": null,
      "metadata": {
        "collapsed": false
      },
      "outputs": [],
      "source": [
        "raw.plot()"
      ]
    },
    {
      "cell_type": "markdown",
      "metadata": {},
      "source": [
        ".. LINKS\n\n   https://mne.tools/dev/generated/mne.datasets.somato.data_path.html\n\n\n"
      ]
    }
  ],
  "metadata": {
    "kernelspec": {
      "display_name": "Python 3",
      "language": "python",
      "name": "python3"
    },
    "language_info": {
      "codemirror_mode": {
        "name": "ipython",
        "version": 3
      },
      "file_extension": ".py",
      "mimetype": "text/x-python",
      "name": "python",
      "nbconvert_exporter": "python",
      "pygments_lexer": "ipython3",
      "version": "3.8.6"
    }
  },
  "nbformat": 4,
  "nbformat_minor": 0
}