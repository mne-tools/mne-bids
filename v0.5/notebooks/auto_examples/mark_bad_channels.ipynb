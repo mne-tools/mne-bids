{
  "cells": [
    {
      "cell_type": "code",
      "execution_count": null,
      "metadata": {
        "collapsed": false
      },
      "outputs": [],
      "source": [
        "%matplotlib inline"
      ]
    },
    {
      "cell_type": "markdown",
      "metadata": {},
      "source": [
        "\n# 03. Changing which channels are marked as \"bad\"\n\nYou can use MNE-BIDS to mark MEG or (i)EEG recording channels as \"bad\", for\nexample if the connected sensor produced mostly noise \u2013 or no signal at\nall.\n\nSimilarly, you can declare channels as \"good\", should you discover they were\nincorrectly marked as bad.\n"
      ]
    },
    {
      "cell_type": "code",
      "execution_count": null,
      "metadata": {
        "collapsed": false
      },
      "outputs": [],
      "source": [
        "# Authors: Richard H\u00f6chenberger <richard.hoechenberger@gmail.com>\n# License: BSD (3-clause)"
      ]
    },
    {
      "cell_type": "markdown",
      "metadata": {},
      "source": [
        "We will demonstrate how to mark individual channels as bad on the MNE\n\"sample\" dataset. After that, we will mark channels as good again.\n\nLet's start by importing the required modules and functions, reading the\n\"sample\" data, and writing it in the BIDS format.\n\n"
      ]
    },
    {
      "cell_type": "code",
      "execution_count": null,
      "metadata": {
        "collapsed": false
      },
      "outputs": [],
      "source": [
        "import os.path as op\nimport mne\nfrom mne_bids import BIDSPath, write_raw_bids, read_raw_bids, mark_bad_channels\n\ndata_path = mne.datasets.sample.data_path()\nraw_fname = op.join(data_path, 'MEG', 'sample', 'sample_audvis_raw.fif')\nbids_root = op.join(data_path, '..', 'MNE-sample-data-bids')\nbids_path = BIDSPath(subject='01', session='01', task='audiovisual', run='01',\n                     root=bids_root)\n\nraw = mne.io.read_raw_fif(raw_fname, verbose=False)\nraw.info['line_freq'] = 60  # Specify power line frequency as required by BIDS.\nwrite_raw_bids(raw, bids_path=bids_path, overwrite=True, verbose=False)"
      ]
    },
    {
      "cell_type": "markdown",
      "metadata": {},
      "source": [
        "Read the (now BIDS-formatted) data and print a list of channels currently\nmarked as bad.\n\n"
      ]
    },
    {
      "cell_type": "code",
      "execution_count": null,
      "metadata": {
        "collapsed": false
      },
      "outputs": [],
      "source": [
        "raw = read_raw_bids(bids_path=bids_path, verbose=False)\nprint(f'The following channels are currently marked as bad:\\n'\n      f'    {\", \".join(raw.info[\"bads\"])}\\n')"
      ]
    },
    {
      "cell_type": "markdown",
      "metadata": {},
      "source": [
        "So currently, two channels are maked as bad: ``EEG 053`` and ``MEG 2443``.\nLet's assume that through visual data inspection, we found that two more\nMEG channels are problematic, and we would like to mark them as bad as well.\nTo do that, we simply add them to a list, which we then pass to\n:func:`mne_bids.mark_bad_channels`:\n\n"
      ]
    },
    {
      "cell_type": "code",
      "execution_count": null,
      "metadata": {
        "collapsed": false
      },
      "outputs": [],
      "source": [
        "bads = ['MEG 0112', 'MEG 0131']\nmark_bad_channels(ch_names=bads, bids_path=bids_path, verbose=False)"
      ]
    },
    {
      "cell_type": "markdown",
      "metadata": {},
      "source": [
        "That's it! Let's verify the result.\n\n"
      ]
    },
    {
      "cell_type": "code",
      "execution_count": null,
      "metadata": {
        "collapsed": false
      },
      "outputs": [],
      "source": [
        "raw = read_raw_bids(bids_path=bids_path, verbose=False)\nprint(f'After marking MEG 0112 and MEG 0131 as bad, the following channels '\n      f'are now marked as bad:\\n    {\", \".join(raw.info[\"bads\"])}\\n')"
      ]
    },
    {
      "cell_type": "markdown",
      "metadata": {},
      "source": [
        "As you can see, now a total of **four** channels is marked as bad: the ones\nthat were already bad when we started \u2013 ``EEG 053`` and ``MEG 2443`` \u2013 and\nthe two channels we passed to :func:`mne_bids.mark_bad_channels` \u2013\n``MEG 0112`` and ``MEG 0131``. This shows that marking bad channels via\n:func:`mne_bids.mark_bad_channels`, by default, is an **additive** procedure,\nwhich allows you to mark additional channels as bad while retaining the\ninformation about all channels that had *previously* been marked as bad.\n\nIf you instead would like to **replace** the collection of bad channels\nentirely, pass the argument ``overwrite=True``:\n\n"
      ]
    },
    {
      "cell_type": "code",
      "execution_count": null,
      "metadata": {
        "collapsed": false
      },
      "outputs": [],
      "source": [
        "bads = ['MEG 0112', 'MEG 0131']\nmark_bad_channels(ch_names=bads, bids_path=bids_path, overwrite=True,\n                  verbose=False)\n\nraw = read_raw_bids(bids_path=bids_path, verbose=False)\nprint(f'After marking MEG 0112 and MEG 0131 as bad and passing '\n      f'`overwrite=True`, the following channels '\n      f'are now marked as bad:\\n    {\", \".join(raw.info[\"bads\"])}\\n')"
      ]
    },
    {
      "cell_type": "markdown",
      "metadata": {},
      "source": [
        "Lastly, if you're looking for a way to mark all channels as good, simply\npass an empty list as ``ch_names``, combined with ``overwrite=True``:\n\n"
      ]
    },
    {
      "cell_type": "code",
      "execution_count": null,
      "metadata": {
        "collapsed": false
      },
      "outputs": [],
      "source": [
        "bads = []\nmark_bad_channels(ch_names=bads, bids_path=bids_path, overwrite=True,\n                  verbose=False)\n\nraw = read_raw_bids(bids_path=bids_path, verbose=False)\nprint(f'After passing `ch_names=[]` and `overwrite=True`, the following '\n      f'channels are now marked as bad:\\n    {\", \".join(raw.info[\"bads\"])}\\n')"
      ]
    }
  ],
  "metadata": {
    "kernelspec": {
      "display_name": "Python 3",
      "language": "python",
      "name": "python3"
    },
    "language_info": {
      "codemirror_mode": {
        "name": "ipython",
        "version": 3
      },
      "file_extension": ".py",
      "mimetype": "text/x-python",
      "name": "python",
      "nbconvert_exporter": "python",
      "pygments_lexer": "ipython3",
      "version": "3.8.6"
    }
  },
  "nbformat": 4,
  "nbformat_minor": 0
}