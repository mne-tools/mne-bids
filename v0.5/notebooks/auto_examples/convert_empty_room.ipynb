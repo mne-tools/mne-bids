{
  "cells": [
    {
      "cell_type": "code",
      "execution_count": null,
      "metadata": {
        "collapsed": false
      },
      "outputs": [],
      "source": [
        "%matplotlib inline"
      ]
    },
    {
      "cell_type": "markdown",
      "metadata": {},
      "source": [
        "\n\n# 09. Storing empty room data in BIDS format\n\nThis example demonstrates how to store empty room data in BIDS format\nand how to retrieve them.\n"
      ]
    },
    {
      "cell_type": "code",
      "execution_count": null,
      "metadata": {
        "collapsed": false
      },
      "outputs": [],
      "source": [
        "# Authors: Mainak Jas <mainakjas@gmail.com>\n#\n# License: BSD (3-clause)"
      ]
    },
    {
      "cell_type": "markdown",
      "metadata": {},
      "source": [
        "We are dealing with MEG data, which is often accompanied by so-called\n\"empty room\" recordings for noise modeling. Below we show that we can use\nMNE-BIDS to also save such a recording with the just converted data.\n\nLet us first import mne_bids.\n\n"
      ]
    },
    {
      "cell_type": "code",
      "execution_count": null,
      "metadata": {
        "collapsed": false
      },
      "outputs": [],
      "source": [
        "import os.path as op\n\nfrom datetime import datetime, timezone\n\nimport mne\nfrom mne.datasets import sample\n\nfrom mne_bids import (write_raw_bids, read_raw_bids,\n                      BIDSPath, print_dir_tree)"
      ]
    },
    {
      "cell_type": "markdown",
      "metadata": {},
      "source": [
        "And define the paths and event_id dictionary.\n\n"
      ]
    },
    {
      "cell_type": "code",
      "execution_count": null,
      "metadata": {
        "collapsed": false
      },
      "outputs": [],
      "source": [
        "data_path = sample.data_path()\nraw_fname = op.join(data_path, 'MEG', 'sample', 'sample_audvis_raw.fif')\n\nbids_root = op.join(data_path, '..', 'MNE-sample-data-bids')\n\n# Specify the raw_file and events_data and run the BIDS conversion.\nraw = mne.io.read_raw_fif(raw_fname)\nraw.info['line_freq'] = 60  # specify power line frequency as required by BIDS\n\nbids_path = BIDSPath(subject='01', session='01',\n                     task='audiovisual', run='01', root=bids_root)\nwrite_raw_bids(raw, bids_path, overwrite=True)"
      ]
    },
    {
      "cell_type": "markdown",
      "metadata": {},
      "source": [
        "Specify some empty room data and run BIDS conversion on it.\n\n"
      ]
    },
    {
      "cell_type": "code",
      "execution_count": null,
      "metadata": {
        "collapsed": false
      },
      "outputs": [],
      "source": [
        "er_raw_fname = op.join(data_path, 'MEG', 'sample', 'ernoise_raw.fif')\ner_raw = mne.io.read_raw_fif(er_raw_fname)\ner_raw.info['line_freq'] = 60  # specify power line frequency as req. by BIDS\n\n# For empty room data we need to specify the recording date in the format\n# YYYYMMDD for the session id.\ner_date = er_raw.info['meas_date'].strftime('%Y%m%d')\nprint(er_date)"
      ]
    },
    {
      "cell_type": "markdown",
      "metadata": {},
      "source": [
        "The measurement date is\n\n"
      ]
    },
    {
      "cell_type": "code",
      "execution_count": null,
      "metadata": {
        "collapsed": false
      },
      "outputs": [],
      "source": [
        "raw_date = raw.info['meas_date'].strftime('%Y%m%d')\nprint(raw_date)"
      ]
    },
    {
      "cell_type": "markdown",
      "metadata": {},
      "source": [
        "We also need to specify that the subject ID is 'emptyroom', and that the\ntask is 'noise' (these are BIDS rules).\n\n"
      ]
    },
    {
      "cell_type": "code",
      "execution_count": null,
      "metadata": {
        "collapsed": false
      },
      "outputs": [],
      "source": [
        "er_bids_path = BIDSPath(subject='emptyroom', session=er_date,\n                        task='noise', root=bids_root)\nwrite_raw_bids(er_raw, er_bids_path, overwrite=True)"
      ]
    },
    {
      "cell_type": "markdown",
      "metadata": {},
      "source": [
        "Just to illustrate, we can save more than one empty room file for different\ndates. Here, they will all contain the same data but in your study, they\nwill be different on different days.\n\n"
      ]
    },
    {
      "cell_type": "code",
      "execution_count": null,
      "metadata": {
        "collapsed": false
      },
      "outputs": [],
      "source": [
        "dates = ['20021204', '20021201', '20021001']\n\nfor date in dates:\n    er_bids_path.update(session=date)\n    er_meas_date = datetime.strptime(date, '%Y%m%d')\n    er_raw.set_meas_date(er_meas_date.replace(tzinfo=timezone.utc))\n    write_raw_bids(er_raw, er_bids_path, overwrite=True)"
      ]
    },
    {
      "cell_type": "markdown",
      "metadata": {},
      "source": [
        "Let us look at the directory structure\n\n"
      ]
    },
    {
      "cell_type": "code",
      "execution_count": null,
      "metadata": {
        "collapsed": false
      },
      "outputs": [],
      "source": [
        "print_dir_tree(bids_root)"
      ]
    },
    {
      "cell_type": "markdown",
      "metadata": {},
      "source": [
        "To get an accurate estimate of the noise, it is important that the empty\nroom recording be as close in date as the raw data.\nWe can retrieve the basename corresponding to the empty room\nrecording that is closest in time to the experimental measurement.\n\n"
      ]
    },
    {
      "cell_type": "code",
      "execution_count": null,
      "metadata": {
        "collapsed": false
      },
      "outputs": [],
      "source": [
        "er_bids_path = bids_path.find_empty_room()\nprint(er_bids_path)"
      ]
    },
    {
      "cell_type": "markdown",
      "metadata": {},
      "source": [
        "Finally, we can read the empty room file using\n\n"
      ]
    },
    {
      "cell_type": "code",
      "execution_count": null,
      "metadata": {
        "collapsed": false
      },
      "outputs": [],
      "source": [
        "raw = read_raw_bids(bids_path=er_bids_path)\nprint(raw)"
      ]
    }
  ],
  "metadata": {
    "kernelspec": {
      "display_name": "Python 3",
      "language": "python",
      "name": "python3"
    },
    "language_info": {
      "codemirror_mode": {
        "name": "ipython",
        "version": 3
      },
      "file_extension": ".py",
      "mimetype": "text/x-python",
      "name": "python",
      "nbconvert_exporter": "python",
      "pygments_lexer": "ipython3",
      "version": "3.8.6"
    }
  },
  "nbformat": 4,
  "nbformat_minor": 0
}