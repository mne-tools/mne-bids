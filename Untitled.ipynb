{
 "cells": [
  {
   "cell_type": "code",
   "execution_count": 1,
   "metadata": {},
   "outputs": [],
   "source": [
    "from mne.datasets import somato"
   ]
  },
  {
   "cell_type": "code",
   "execution_count": null,
   "metadata": {},
   "outputs": [
    {
     "name": "stdout",
     "output_type": "stream",
     "text": [
      "Using default location ~/mne_data for somato...\n",
      "Downloading archive MNE-somato-data.tar.gz to /Users/adam2392/mne_data\n",
      "Downloading https://files.osf.io/v1/resources/rxvq7/providers/osfstorage/59c0e2849ad5a1025d4b7346?version=5&action=download&direct (558.7 MB)\n",
      "[....................................                        ]  60.63% (338.7 MB,   439 kB/s) -"
     ]
    }
   ],
   "source": [
    "data_path = somato.data_path()\n",
    "subject = '01'\n",
    "task = 'somato'\n",
    "raw_fname = op.join(data_path, 'sub-{}'.format(subject), 'meg',\n",
    "                    'sub-{}_task-{}_meg.fif'.format(subject, task))\n",
    "\n",
    "# let's explore some frequency bands\n",
    "iter_freqs = [\n",
    "    ('Theta', 4, 7),\n",
    "    ('Alpha', 8, 12),\n",
    "    ('Beta', 13, 25),\n",
    "    ('Gamma', 30, 45)\n",
    "]\n",
    "print(data_path)"
   ]
  },
  {
   "cell_type": "code",
   "execution_count": null,
   "metadata": {},
   "outputs": [],
   "source": []
  }
 ],
 "metadata": {
  "kernelspec": {
   "display_name": "neurologic",
   "language": "python",
   "name": "neurologic"
  },
  "language_info": {
   "codemirror_mode": {
    "name": "ipython",
    "version": 3
   },
   "file_extension": ".py",
   "mimetype": "text/x-python",
   "name": "python",
   "nbconvert_exporter": "python",
   "pygments_lexer": "ipython3",
   "version": "3.7.6"
  }
 },
 "nbformat": 4,
 "nbformat_minor": 2
}
