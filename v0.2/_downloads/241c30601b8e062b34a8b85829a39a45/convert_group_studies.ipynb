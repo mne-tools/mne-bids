{
  "cells": [
    {
      "cell_type": "code",
      "execution_count": null,
      "metadata": {
        "collapsed": false
      },
      "outputs": [],
      "source": [
        "%matplotlib inline"
      ]
    },
    {
      "cell_type": "markdown",
      "metadata": {},
      "source": [
        "\n# BIDS conversion for group studies\n\n\nHere, we show how to do BIDS conversion for group studies.\nThe data is available here: https://openneuro.org/datasets/ds000117\n\nReferences\n----------\n\n[1] Wakeman, Daniel G., and Richard N. Henson.\n\"A multi-subject, multi-modal human neuroimaging dataset.\"\nScientific data, 2 (2015): 150001.\n\n\n"
      ]
    },
    {
      "cell_type": "code",
      "execution_count": null,
      "metadata": {
        "collapsed": false
      },
      "outputs": [],
      "source": [
        "# Authors: Mainak Jas <mainak.jas@telecom-paristech.fr>\n#          Teon Brooks <teon.brooks@gmail.com>\n\n# License: BSD (3-clause)"
      ]
    },
    {
      "cell_type": "markdown",
      "metadata": {},
      "source": [
        "Let us import ``mne_bids``\n\n"
      ]
    },
    {
      "cell_type": "code",
      "execution_count": null,
      "metadata": {
        "collapsed": false
      },
      "outputs": [],
      "source": [
        "import os.path as op\n\nimport mne\nfrom mne_bids import write_raw_bids, make_bids_basename\nfrom mne_bids.datasets import fetch_faces_data\nfrom mne_bids.utils import print_dir_tree"
      ]
    },
    {
      "cell_type": "markdown",
      "metadata": {},
      "source": [
        "And fetch the data.\n\n"
      ]
    },
    {
      "cell_type": "code",
      "execution_count": null,
      "metadata": {
        "collapsed": false
      },
      "outputs": [],
      "source": [
        "subject_ids = [1]\nruns = range(1, 7)\n\ndata_path = op.join(op.expanduser('~'), 'mne_data')\nrepo = 'ds000117'\nfetch_faces_data(data_path, repo, subject_ids)\n\noutput_path = op.join(data_path, 'ds000117-bids')"
      ]
    },
    {
      "cell_type": "markdown",
      "metadata": {},
      "source": [
        "<div class=\"alert alert-danger\"><h4>Warning</h4><p>This will download 7.9 GB of data for one subject!</p></div>\n\nDefine event_ids.\n\n"
      ]
    },
    {
      "cell_type": "code",
      "execution_count": null,
      "metadata": {
        "collapsed": false
      },
      "outputs": [],
      "source": [
        "event_id = {\n    'face/famous/first': 5,\n    'face/famous/immediate': 6,\n    'face/famous/long': 7,\n    'face/unfamiliar/first': 13,\n    'face/unfamiliar/immediate': 14,\n    'face/unfamiliar/long': 15,\n    'scrambled/first': 17,\n    'scrambled/immediate': 18,\n    'scrambled/long': 19,\n}"
      ]
    },
    {
      "cell_type": "markdown",
      "metadata": {},
      "source": [
        "Let us loop over the subjects and create BIDS-compatible folder\n\n"
      ]
    },
    {
      "cell_type": "code",
      "execution_count": null,
      "metadata": {
        "collapsed": false
      },
      "outputs": [],
      "source": [
        "for subject_id in subject_ids:\n    subject = 'sub%03d' % subject_id\n    for run in runs:\n        raw_fname = op.join(data_path, repo, subject, 'MEG',\n                            'run_%02d_raw.fif' % run)\n\n        raw = mne.io.read_raw_fif(raw_fname)\n        bids_basename = make_bids_basename(subject=str(subject_id),\n                                           session='01', task='VisualFaces',\n                                           run=str(run))\n        write_raw_bids(raw, bids_basename, output_path, event_id=event_id,\n                       overwrite=True)"
      ]
    },
    {
      "cell_type": "markdown",
      "metadata": {},
      "source": [
        "Now let's see the structure of the BIDS folder we created.\n\n"
      ]
    },
    {
      "cell_type": "code",
      "execution_count": null,
      "metadata": {
        "collapsed": false
      },
      "outputs": [],
      "source": [
        "print_dir_tree(output_path)"
      ]
    }
  ],
  "metadata": {
    "kernelspec": {
      "display_name": "Python 3",
      "language": "python",
      "name": "python3"
    },
    "language_info": {
      "codemirror_mode": {
        "name": "ipython",
        "version": 3
      },
      "file_extension": ".py",
      "mimetype": "text/x-python",
      "name": "python",
      "nbconvert_exporter": "python",
      "pygments_lexer": "ipython3",
      "version": "3.6.10"
    }
  },
  "nbformat": 4,
  "nbformat_minor": 0
}