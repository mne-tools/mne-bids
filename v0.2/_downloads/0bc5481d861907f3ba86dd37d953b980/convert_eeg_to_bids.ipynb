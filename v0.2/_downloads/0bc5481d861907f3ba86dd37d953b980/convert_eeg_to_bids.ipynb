{
  "cells": [
    {
      "cell_type": "code",
      "execution_count": null,
      "metadata": {
        "collapsed": false
      },
      "outputs": [],
      "source": [
        "%matplotlib inline"
      ]
    },
    {
      "cell_type": "markdown",
      "metadata": {},
      "source": [
        "\n# Convert EEG data to BIDS format\n\n\nIn this example, we use MNE-BIDS to create a BIDS-compatible directory of EEG\ndata. Specifically, we will follow these steps:\n\n1. Download some EEG data from the\n   `PhysioBank database <https://physionet.org/physiobank/database>`_.\n\n2. Load the data, extract information, and save in a new BIDS directory\n\n3. Check the result and compare it with the standard\n\n\n"
      ]
    },
    {
      "cell_type": "code",
      "execution_count": null,
      "metadata": {
        "collapsed": false
      },
      "outputs": [],
      "source": [
        "# Authors: Stefan Appelhoff <stefan.appelhoff@mailbox.org>\n# License: BSD (3-clause)"
      ]
    },
    {
      "cell_type": "markdown",
      "metadata": {},
      "source": [
        "We are importing everything we need for this example:\n\n"
      ]
    },
    {
      "cell_type": "code",
      "execution_count": null,
      "metadata": {
        "collapsed": false
      },
      "outputs": [],
      "source": [
        "import os\nimport shutil as sh\n\nimport mne\nfrom mne.datasets import eegbci\n\nfrom mne_bids import write_raw_bids, make_bids_basename\nfrom mne_bids.utils import print_dir_tree"
      ]
    },
    {
      "cell_type": "markdown",
      "metadata": {},
      "source": [
        "Step 1: Download the data\n-------------------------\n\nFirst, we need some data to work with. We will use the\n`EEG Motor Movement/Imagery Dataset <https://doi.org/10.13026/C28G6P>`_\navailable on the PhysioBank database.\n\nThe data consists of 109 volunteers performing 14 experimental runs each. For\neach subject, there were two baseline tasks (1. eyes open, 2. eyes closed) as\nwell as four different motor imagery tasks. For the present example, we will\nshow how to format the data for two subjects and selected tasks to comply\nwith the Brain Imaging Data Structure\n(`BIDS <http://bids.neuroimaging.io/>`).\n\nConveniently, there is already a data loading function available with\nMNE-Python:\n\n"
      ]
    },
    {
      "cell_type": "code",
      "execution_count": null,
      "metadata": {
        "collapsed": false
      },
      "outputs": [],
      "source": [
        "# Make a directory to save the data to\nhome = os.path.expanduser('~')\nmne_dir = os.path.join(home, 'mne_data')\nif not os.path.exists(mne_dir):\n    os.makedirs(mne_dir)\n\n# Define which tasks we want to download.\ntasks = [2,  # This is 2 minutes of eyes closed rest\n         4,  # This is run #1 of imagining to close left or right fist\n         12]  # This is run #2 of imagining to close left or right fist\n\n# Download the data for subjects 1 and 2\nfor subj_idx in [1, 2]:\n    eegbci.load_data(subject=subj_idx,\n                     runs=tasks,\n                     path=mne_dir,\n                     update_path=True)"
      ]
    },
    {
      "cell_type": "markdown",
      "metadata": {},
      "source": [
        "Let's see whether the data has been downloaded using a quick visualization\nof the directory tree.\n\n"
      ]
    },
    {
      "cell_type": "code",
      "execution_count": null,
      "metadata": {
        "collapsed": false
      },
      "outputs": [],
      "source": [
        "data_dir = os.path.join(mne_dir, 'MNE-eegbci-data')\nprint_dir_tree(data_dir)"
      ]
    },
    {
      "cell_type": "markdown",
      "metadata": {},
      "source": [
        "The data are in the `European Data Format <https://www.edfplus.info/>`_\n'.edf', which is good for us because next to the BrainVision format, EDF is\none of the recommended file formats for EEG BIDS. However, apart from the\ndata format, we need to build a directory structure and supply meta data\nfiles to properly *bidsify* this data.\n\n"
      ]
    },
    {
      "cell_type": "markdown",
      "metadata": {},
      "source": [
        "Step 2: Formatting as BIDS\n--------------------------\n\nLet's start by formatting a single subject. We are reading the data using\nMNE-Python's io module and the `read_raw_edf` function. Note that we must\nuse `preload=False`, the default in MNE-Python. It prevents the data from\nbeing loaded and modified when converting to BIDS.\n\n"
      ]
    },
    {
      "cell_type": "code",
      "execution_count": null,
      "metadata": {
        "collapsed": false
      },
      "outputs": [],
      "source": [
        "edf_path = eegbci.load_data(subject=1, runs=2)[0]\nraw = mne.io.read_raw_edf(edf_path, preload=False, stim_channel=None)"
      ]
    },
    {
      "cell_type": "markdown",
      "metadata": {},
      "source": [
        "The annotations stored in the file must be read in separately and converted\ninto a 2D numpy array of events that is compatible with MNE.\n\n"
      ]
    },
    {
      "cell_type": "code",
      "execution_count": null,
      "metadata": {
        "collapsed": false
      },
      "outputs": [],
      "source": [
        "annot = mne.read_annotations(edf_path)\nraw.set_annotations(annot)\nevents, event_id = mne.events_from_annotations(raw)\n\nprint(raw)"
      ]
    },
    {
      "cell_type": "markdown",
      "metadata": {},
      "source": [
        "With this step, we have everything to start a new BIDS directory using\nour data. To do that, we can use the function `write_raw_bids`\nGenerally, `write_raw_bids` tries to extract as much\nmeta data as possible from the raw data and then formats it in a BIDS\ncompatible way. `write_raw_bids` takes a bunch of inputs, most of which are\nhowever optional. The required inputs are:\n\n* raw\n* bids_basename\n* output_path\n\n... as you can see in the docstring:\n\n"
      ]
    },
    {
      "cell_type": "code",
      "execution_count": null,
      "metadata": {
        "collapsed": false
      },
      "outputs": [],
      "source": [
        "print(write_raw_bids.__doc__)"
      ]
    },
    {
      "cell_type": "markdown",
      "metadata": {},
      "source": [
        "We loaded 'S001R02.edf', which corresponds to subject 1 in the second task.\nThe second task was to rest with closed eyes.\n\n"
      ]
    },
    {
      "cell_type": "code",
      "execution_count": null,
      "metadata": {
        "collapsed": false
      },
      "outputs": [],
      "source": [
        "subject_id = '001'  # zero padding to account for >100 subjects in this dataset\ntask = 'resteyesclosed'\nraw_file = raw\noutput_path = os.path.join(home, 'mne_data', 'eegmmidb_bids')"
      ]
    },
    {
      "cell_type": "markdown",
      "metadata": {},
      "source": [
        "Now we just need to specify a few more EEG details to get something sensible:\n\n"
      ]
    },
    {
      "cell_type": "code",
      "execution_count": null,
      "metadata": {
        "collapsed": false
      },
      "outputs": [],
      "source": [
        "# Brief description of the event markers present in the data. This will become\n# the `trial_type` column in our BIDS `events.tsv`. We know about the event\n# meaning from the documentation on PhysioBank\ntrial_type = {'rest': 0, 'imagine left fist': 1, 'imagine right fist': 2}\n\n# Now convert our data to be in a new BIDS dataset.\nbids_basename = make_bids_basename(subject=subject_id, task=task)\nwrite_raw_bids(raw_file, bids_basename, output_path, event_id=trial_type,\n               events_data=events, overwrite=True)"
      ]
    },
    {
      "cell_type": "markdown",
      "metadata": {},
      "source": [
        "What does our fresh BIDS directory look like?\n\n"
      ]
    },
    {
      "cell_type": "code",
      "execution_count": null,
      "metadata": {
        "collapsed": false
      },
      "outputs": [],
      "source": [
        "print_dir_tree(output_path)"
      ]
    },
    {
      "cell_type": "markdown",
      "metadata": {},
      "source": [
        "Looks good so far, let's convert the data for all tasks and subjects.\n\n"
      ]
    },
    {
      "cell_type": "code",
      "execution_count": null,
      "metadata": {
        "collapsed": false
      },
      "outputs": [],
      "source": [
        "# Start with a clean directory\nsh.rmtree(output_path)\n\n# Some initial information that we found in the PhysioBank documentation\ntask_names = {2: 'resteyesclosed',\n              4: 'imaginefists',  # run 1\n              12: 'imaginefists'  # run 2\n              }\n\nrun_mapping = {2: None,  # for resting eyes closed task, there was only one run\n               4: '1',\n               12: '2'\n               }\n\n# Now go over subjects and *bidsify*\nfor subj_idx in [1, 2]:\n    for task_idx in [2, 4, 12]:\n        # Load the data\n        edf_path = eegbci.load_data(subject=subj_idx, runs=task_idx)[0]\n\n        raw = mne.io.read_raw_edf(edf_path, preload=False, stim_channel=None)\n        annot = mne.read_annotations(edf_path)\n        raw.set_annotations(annot)\n        events, event_id = mne.events_from_annotations(raw)\n\n        make_bids_basename(\n            subject='{:03}'.format(subj_idx), task=task_names[task_idx],\n            run=run_mapping[task_idx])\n        write_raw_bids(raw, bids_basename, output_path, event_id=trial_type,\n                       events_data=events, overwrite=True)"
      ]
    },
    {
      "cell_type": "markdown",
      "metadata": {},
      "source": [
        "Step 3: Check and compare with standard\n---------------------------------------\nNow we have written our BIDS directory.\n\n"
      ]
    },
    {
      "cell_type": "code",
      "execution_count": null,
      "metadata": {
        "collapsed": false
      },
      "outputs": [],
      "source": [
        "print_dir_tree(output_path)"
      ]
    },
    {
      "cell_type": "markdown",
      "metadata": {},
      "source": [
        "MNE-BIDS has created a suitable directory structure for us, and among other\nmeta data files, it started an `events.tsv` and `channels.tsv` and made an\ninitial `dataset_description` on top!\n\nNow it's time to manually check the BIDS directory and the meta files to add\nall the information that MNE-BIDS could not infer. For instance, you must\ndescribe EEGReference and EEGGround yourself. It's easy to find these by\nsearching for \"n/a\" in the sidecar files.\n\nRemember that there is a convenient javascript tool to validate all your BIDS\ndirectories called the \"BIDS-validator\", available as a web version and a\ncommand line tool:\n\nWeb version: https://bids-standard.github.io/bids-validator/\n\nCommand line tool: https://www.npmjs.com/package/bids-validator\n\n"
      ]
    }
  ],
  "metadata": {
    "kernelspec": {
      "display_name": "Python 3",
      "language": "python",
      "name": "python3"
    },
    "language_info": {
      "codemirror_mode": {
        "name": "ipython",
        "version": 3
      },
      "file_extension": ".py",
      "mimetype": "text/x-python",
      "name": "python",
      "nbconvert_exporter": "python",
      "pygments_lexer": "ipython3",
      "version": "3.6.10"
    }
  },
  "nbformat": 4,
  "nbformat_minor": 0
}