{
  "cells": [
    {
      "cell_type": "markdown",
      "metadata": {},
      "source": [
        "\n# 13. Anonymizing a BIDS dataset\n\nConsider the following scenario:\n\n- You've created a BIDS dataset.\n- Now you want to make this dataset available to the public.\n- Therefore, all personally identifying information must be removed.\n\nWhile :func:`mne_bids.write_raw_bids` and :func:`mne_bids.write_anat` can be\nused to store anonymized copies of data (by passing the ``anonymize`` and\n``deface`` keyword arguments, respectively), using these functions to anonymize\nan entire existing dataset can be cumbersome and error-prone.\n\nMNE-BIDS provides a dedicated function, :func:`mne_bids.anonymize_dataset`,\nto do the heavy lifting for you, automatically.\n"
      ]
    },
    {
      "cell_type": "code",
      "execution_count": null,
      "metadata": {
        "collapsed": false
      },
      "outputs": [],
      "source": [
        "# Authors: Richard H\u00f6chenberger <richard.hoechenberger@gmail.com>\n# License: BSD-3-Clause"
      ]
    },
    {
      "cell_type": "code",
      "execution_count": null,
      "metadata": {
        "collapsed": false
      },
      "outputs": [],
      "source": [
        "import shutil\nfrom pathlib import Path\n\nimport mne\n\nfrom mne_bids import (\n    BIDSPath,\n    anonymize_dataset,\n    print_dir_tree,\n    write_anat,\n    write_meg_calibration,\n    write_meg_crosstalk,\n    write_raw_bids,\n)\n\ndata_path = Path(mne.datasets.sample.data_path())\nevent_id = {\n    \"Auditory/Left\": 1,\n    \"Auditory/Right\": 2,\n    \"Visual/Left\": 3,\n    \"Visual/Right\": 4,\n    \"Smiley\": 5,\n    \"Button\": 32,\n}\n\nraw_path = data_path / \"MEG\" / \"sample\" / \"sample_audvis_raw.fif\"\nraw_er_path = data_path / \"MEG\" / \"sample\" / \"ernoise_raw.fif\"  # empty-room\nevents_path = data_path / \"MEG\" / \"sample\" / \"sample_audvis_raw-eve.fif\"\ncal_path = data_path / \"SSS\" / \"sss_cal_mgh.dat\"\nct_path = data_path / \"SSS\" / \"ct_sparse_mgh.fif\"\nt1w_path = data_path / \"subjects\" / \"sample\" / \"mri\" / \"T1.mgz\"\n\nbids_root = data_path.parent / \"MNE-sample-data-bids\"\nbids_root_anon = data_path.parent / \"MNE-sample-data-bids-anon\""
      ]
    },
    {
      "cell_type": "markdown",
      "metadata": {},
      "source": [
        "To ensure the output paths don't contain any leftover files from previous\ntests and example runs, we simply delete it.\n\n<div class=\"alert alert-danger\"><h4>Warning</h4><p>Do not delete directories that may contain important data!</p></div>\n\n\n"
      ]
    },
    {
      "cell_type": "code",
      "execution_count": null,
      "metadata": {
        "collapsed": false
      },
      "outputs": [],
      "source": [
        "if bids_root.exists():\n    shutil.rmtree(bids_root)\nif bids_root_anon.exists():\n    shutil.rmtree(bids_root_anon)"
      ]
    },
    {
      "cell_type": "code",
      "execution_count": null,
      "metadata": {
        "collapsed": false
      },
      "outputs": [],
      "source": [
        "bids_path = BIDSPath(\n    subject=\"ABC123\", task=\"audiovisual\", root=bids_root, datatype=\"meg\"\n)\nbids_path_er = bids_path.copy().update(\n    subject=\"emptyroom\", task=\"noise\", session=\"20021206\"\n)\n\nraw = mne.io.read_raw_fif(raw_path, verbose=False)\nraw_er = mne.io.read_raw_fif(raw_er_path, verbose=False)\n# specify power line frequency as required by BIDS\nraw.info[\"line_freq\"] = 60\nraw_er.info[\"line_freq\"] = 60\n\n# Write empty-room data\nwrite_raw_bids(raw=raw_er, bids_path=bids_path_er, verbose=False)\n\n# Write experimental MEG data, fine-calibration and crosstalk files\nwrite_raw_bids(\n    raw=raw,\n    bids_path=bids_path,\n    events=events_path,\n    event_id=event_id,\n    empty_room=bids_path_er,\n    verbose=False,\n)\nwrite_meg_calibration(cal_path, bids_path=bids_path, verbose=False)\nwrite_meg_crosstalk(ct_path, bids_path=bids_path, verbose=False)\n\n# Write anatomical scan\n# We pass the MRI landmark coordinates, which will later be required for\n# automated defacing\nmri_landmarks = mne.channels.make_dig_montage(\n    lpa=[66.08580, 51.33362, 46.52982],\n    nasion=[41.87363, 32.24694, 74.55314],\n    rpa=[17.23812, 53.08294, 47.01789],\n    coord_frame=\"mri_voxel\",\n)\nbids_path.datatype = \"anat\"\nwrite_anat(image=t1w_path, bids_path=bids_path, landmarks=mri_landmarks, verbose=False)"
      ]
    },
    {
      "cell_type": "markdown",
      "metadata": {},
      "source": [
        "## Basic anonymization\nNow we're ready to anonymize the dataset!\n\n"
      ]
    },
    {
      "cell_type": "code",
      "execution_count": null,
      "metadata": {
        "collapsed": false
      },
      "outputs": [],
      "source": [
        "anonymize_dataset(bids_root_in=bids_root, bids_root_out=bids_root_anon)"
      ]
    },
    {
      "cell_type": "markdown",
      "metadata": {},
      "source": [
        "That's it! Let's have a look at directory structure of the anonymized\ndataset.\n\n"
      ]
    },
    {
      "cell_type": "code",
      "execution_count": null,
      "metadata": {
        "collapsed": false
      },
      "outputs": [],
      "source": [
        "print_dir_tree(bids_root_anon)"
      ]
    },
    {
      "cell_type": "markdown",
      "metadata": {},
      "source": [
        "You can see that the subject ID was changed to a number (in this case, the\ndigit ``1```), and the recording dates have been shifted backward in time (as\nindicated by the ``emptyroom`` session name). Anonymized IDs are zero-padded\nnumbers ranging from 1 to $N$, where $N$ is the total number of\nparticipants (excluding the ``emptyroom`` pseudo-subject).\n\n## Limiting to specific data types\nBy default, :func:`mne_bids.anonymize_dataset` will anonymize\nelectrophysiological data and anatomical MR scans (T1-weighted and FLASH).\nYou can limit which data types to convert using the ``datatypes`` keyword\nargument. The parameter can be a string (e.g., ``'meg'``, ``'eeg'``,\n``'anat'``) or a list of such strings.\n\n"
      ]
    },
    {
      "cell_type": "code",
      "execution_count": null,
      "metadata": {
        "collapsed": false
      },
      "outputs": [],
      "source": [
        "shutil.rmtree(bids_root_anon)\nanonymize_dataset(\n    bids_root_in=bids_root,\n    bids_root_out=bids_root_anon,\n    datatypes=\"anat\",  # Only anatomical data\n)\nprint_dir_tree(bids_root_anon)"
      ]
    },
    {
      "cell_type": "markdown",
      "metadata": {},
      "source": [
        "## Specifying time shift\nAnonymization involves shifting the recording dates back in time. MNE-BIDS\nwill try to automatically choose a suitable time shift. You may also\nexplicitly specify by how many days you wish to shift the recording dates\nback in time via the ``daysback`` parameter. To avoid the time shift, pass\n``daysback=0``.\n\n"
      ]
    },
    {
      "cell_type": "code",
      "execution_count": null,
      "metadata": {
        "collapsed": false
      },
      "outputs": [],
      "source": [
        "shutil.rmtree(bids_root_anon)\nanonymize_dataset(\n    bids_root_in=bids_root,\n    bids_root_out=bids_root_anon,\n    datatypes=\"meg\",  # Only MEG data\n    daysback=10,\n)\nprint_dir_tree(bids_root_anon / \"sub-emptyroom\")  # Easy to see effects here"
      ]
    },
    {
      "cell_type": "markdown",
      "metadata": {},
      "source": [
        "## Specifying subject IDs\nAnonymized subject IDs are automatically generated as unique numbers in\nascending order. You can control this behavior via the ``subject_mapping``\nparameter. Set it to ``None`` to avoid changing the subject IDs, e.g., in\ncase they're already anonymized. You can pass a dictionary that maps original\nsubject IDs to the anonymize IDs. Lastly, you can also pass a function that\naccepts a list of original IDs and returns such a dictionary.\n\n"
      ]
    },
    {
      "cell_type": "code",
      "execution_count": null,
      "metadata": {
        "collapsed": false
      },
      "outputs": [],
      "source": [
        "shutil.rmtree(bids_root_anon)\n\nsubject_mapping = {\"ABC123\": \"anonymous\", \"emptyroom\": \"emptyroom\"}\n\nanonymize_dataset(\n    bids_root_in=bids_root,\n    bids_root_out=bids_root_anon,\n    datatypes=\"meg\",\n    subject_mapping=subject_mapping,\n)\nprint_dir_tree(bids_root_anon)"
      ]
    },
    {
      "cell_type": "markdown",
      "metadata": {},
      "source": [
        "## Reproducibility\nEvery time you run this function, the automatically-generated subject IDs and\nthe timeshift may differ (unless you excplicitly specify them as described\nabove), as they are determined randomly.\n\nTo ensure results are reproducible across runs, you can pass the\n``random_state`` parameter, causing the random number generator to produce\nthe same results every time you execute the function. This may come in handy\ne.g. in situations where you discover a problem with the data while working\nwith the anonymized dataset, fix the issue in the original dataset, and\nrun anonymization again.\n\n(Note that throughout this example, we only had a single subject in our\ndataset, meaning it will always be assigned the anonymized ID ``1``. Only\nin a dataset with multiple subjects will the effects of randomly-picked IDs\nbecome apparent.)\n\n<div class=\"alert alert-info\"><h4>Note</h4><p>Passing ``random_state`` merely guarantees that subject IDs and time shift\n   remain the same across anonymization runs if the original dataset\n   remained unchanged. It does **not** allow you to incrementally add data\n   (e.g., a new participant) to an anonymized dataset: If the original\n   dataset changes and you want the changes anonymized, you will need to\n   anonymize the entire dataset again.</p></div>\n\n"
      ]
    },
    {
      "cell_type": "code",
      "execution_count": null,
      "metadata": {
        "collapsed": false
      },
      "outputs": [],
      "source": [
        "for i in range(2):\n    print(f\"\\n\\nRun {i + 1}\\n\")\n    shutil.rmtree(bids_root_anon)\n    anonymize_dataset(\n        bids_root_in=bids_root,\n        bids_root_out=bids_root_anon,\n        datatypes=\"meg\",\n        random_state=42,\n    )\n    print_dir_tree(bids_root_anon)"
      ]
    }
  ],
  "metadata": {
    "kernelspec": {
      "display_name": "Python 3",
      "language": "python",
      "name": "python3"
    },
    "language_info": {
      "codemirror_mode": {
        "name": "ipython",
        "version": 3
      },
      "file_extension": ".py",
      "mimetype": "text/x-python",
      "name": "python",
      "nbconvert_exporter": "python",
      "pygments_lexer": "ipython3",
      "version": "3.12.2"
    }
  },
  "nbformat": 4,
  "nbformat_minor": 0
}