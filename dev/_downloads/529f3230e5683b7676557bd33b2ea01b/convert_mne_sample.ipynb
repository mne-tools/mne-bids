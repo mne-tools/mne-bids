{
  "cells": [
    {
      "cell_type": "markdown",
      "metadata": {},
      "source": [
        "\n.. currentmodule:: mne_bids\n\n\n# 02. Convert MNE sample data to BIDS format\n\nIn this example we will use MNE-BIDS to organize the MNE sample data according\nto the BIDS standard.\nIn a second step we will read the organized dataset using MNE-BIDS.\n\n"
      ]
    },
    {
      "cell_type": "code",
      "execution_count": null,
      "metadata": {
        "collapsed": false
      },
      "outputs": [],
      "source": [
        "# Authors: Mainak Jas <mainak.jas@telecom-paristech.fr>\n#          Alexandre Gramfort <alexandre.gramfort@telecom-paristech.fr>\n#          Teon Brooks <teon.brooks@gmail.com>\n#          Stefan Appelhoff <stefan.appelhoff@mailbox.org>\n#          Richard H\u00f6chenberger <richard.hoechenberger@gmail.com>\n#\n# License: BSD-3-Clause"
      ]
    },
    {
      "cell_type": "markdown",
      "metadata": {},
      "source": [
        "First we import some basic Python libraries, followed by MNE-Python and its\nsample data, and then finally the MNE-BIDS functions we need for this example\n\n"
      ]
    },
    {
      "cell_type": "code",
      "execution_count": null,
      "metadata": {
        "collapsed": false
      },
      "outputs": [],
      "source": [
        "import json\nimport os.path as op\nimport shutil\nfrom pprint import pprint\n\nimport mne\nfrom mne.datasets import sample\n\nfrom mne_bids import (\n    BIDSPath,\n    make_dataset_description,\n    print_dir_tree,\n    read_raw_bids,\n    write_meg_calibration,\n    write_meg_crosstalk,\n    write_raw_bids,\n)\nfrom mne_bids.stats import count_events"
      ]
    },
    {
      "cell_type": "markdown",
      "metadata": {},
      "source": [
        "Now we can read the MNE sample data. We define an `event_id` based on our\nknowledge of the data, to give meaning to events in the data.\n\nWith `raw_fname` and `events`, we determine where to get the sample data\nfrom. `output_path` determines where we will write the BIDS conversion to.\n\n"
      ]
    },
    {
      "cell_type": "code",
      "execution_count": null,
      "metadata": {
        "collapsed": false
      },
      "outputs": [],
      "source": [
        "data_path = sample.data_path()\nevent_id = {\n    \"Auditory/Left\": 1,\n    \"Auditory/Right\": 2,\n    \"Visual/Left\": 3,\n    \"Visual/Right\": 4,\n    \"Smiley\": 5,\n    \"Button\": 32,\n}\n\nraw_fname = op.join(data_path, \"MEG\", \"sample\", \"sample_audvis_raw.fif\")\ner_fname = op.join(data_path, \"MEG\", \"sample\", \"ernoise_raw.fif\")  # empty room\nevents_fname = op.join(data_path, \"MEG\", \"sample\", \"sample_audvis_raw-eve.fif\")\noutput_path = op.join(data_path, \"..\", \"MNE-sample-data-bids\")"
      ]
    },
    {
      "cell_type": "markdown",
      "metadata": {},
      "source": [
        "To ensure the output path doesn't contain any leftover files from previous\ntests and example runs, we simply delete it.\n\n<div class=\"alert alert-danger\"><h4>Warning</h4><p>Do not delete directories that may contain important data!</p></div>\n\n\n"
      ]
    },
    {
      "cell_type": "code",
      "execution_count": null,
      "metadata": {
        "collapsed": false
      },
      "outputs": [],
      "source": [
        "if op.exists(output_path):\n    shutil.rmtree(output_path)"
      ]
    },
    {
      "cell_type": "markdown",
      "metadata": {},
      "source": [
        "<div class=\"alert alert-info\"><h4>Note</h4><p>``mne-bids`` will try to infer as much information from the data as\n  possible to then save this data in BIDS-specific \"sidecar\" files. For\n  example the manufacturer information, which is inferred from the data file\n  extension. However, sometimes inferring is ambiguous (e.g., if your file\n  format is non-standard for the manufacturer). In these cases, MNE-BIDS does\n  *not* guess and you will have to update your BIDS fields manually.</p></div>\n\nBased on our path definitions above, we read the raw data file, define\na new BIDS name for it, and then run the automatic BIDS conversion for both\nthe experimental data and its associated empty-room recording.\n\n"
      ]
    },
    {
      "cell_type": "code",
      "execution_count": null,
      "metadata": {
        "collapsed": false
      },
      "outputs": [],
      "source": [
        "raw = mne.io.read_raw(raw_fname)\nraw_er = mne.io.read_raw(er_fname)\n\n# specify power line frequency as required by BIDS\nraw.info[\"line_freq\"] = 60\nraw_er.info[\"line_freq\"] = 60\n\ntask = \"audiovisual\"\nbids_path = BIDSPath(\n    subject=\"01\", session=\"01\", task=task, run=\"1\", datatype=\"meg\", root=output_path\n)\nwrite_raw_bids(\n    raw=raw,\n    bids_path=bids_path,\n    events=events_fname,\n    event_id=event_id,\n    empty_room=raw_er,\n    overwrite=True,\n)"
      ]
    },
    {
      "cell_type": "markdown",
      "metadata": {},
      "source": [
        "Let's pause and check that the information that we've written out to the\nsidecar files that describe our data is correct.\n\n"
      ]
    },
    {
      "cell_type": "code",
      "execution_count": null,
      "metadata": {
        "collapsed": false
      },
      "outputs": [],
      "source": [
        "# Get the sidecar ``.json`` file\nsidecar_json_bids_path = bids_path.copy().update(suffix=\"meg\", extension=\".json\")\nsidecar_json_content = sidecar_json_bids_path.fpath.read_text(encoding=\"utf-8-sig\")\nprint(sidecar_json_content)"
      ]
    },
    {
      "cell_type": "markdown",
      "metadata": {},
      "source": [
        "The sample MEG dataset comes with fine-calibration and crosstalk files that\nare required when processing Elekta/Neuromag/MEGIN data using MaxFilter\u00ae.\nLet's store these data in appropriate places, too.\n\n"
      ]
    },
    {
      "cell_type": "code",
      "execution_count": null,
      "metadata": {
        "collapsed": false
      },
      "outputs": [],
      "source": [
        "cal_fname = op.join(data_path, \"SSS\", \"sss_cal_mgh.dat\")\nct_fname = op.join(data_path, \"SSS\", \"ct_sparse_mgh.fif\")\n\nwrite_meg_calibration(cal_fname, bids_path)\nwrite_meg_crosstalk(ct_fname, bids_path)"
      ]
    },
    {
      "cell_type": "markdown",
      "metadata": {},
      "source": [
        "Now let's see the structure of the BIDS folder we created.\n\n"
      ]
    },
    {
      "cell_type": "code",
      "execution_count": null,
      "metadata": {
        "collapsed": false
      },
      "outputs": [],
      "source": [
        "print_dir_tree(output_path)"
      ]
    },
    {
      "cell_type": "markdown",
      "metadata": {},
      "source": [
        "Now let's get an overview of the events on the whole dataset\n\n"
      ]
    },
    {
      "cell_type": "code",
      "execution_count": null,
      "metadata": {
        "collapsed": false
      },
      "outputs": [],
      "source": [
        "counts = count_events(output_path)\ncounts"
      ]
    },
    {
      "cell_type": "markdown",
      "metadata": {},
      "source": [
        "A big advantage of having data organized according to BIDS is that software\npackages can automate your workflow. For example, reading the data back\ninto MNE-Python can easily be done using :func:`read_raw_bids`.\n\n"
      ]
    },
    {
      "cell_type": "code",
      "execution_count": null,
      "metadata": {
        "collapsed": false
      },
      "outputs": [],
      "source": [
        "raw = read_raw_bids(bids_path=bids_path)"
      ]
    },
    {
      "cell_type": "markdown",
      "metadata": {},
      "source": [
        "The resulting data is already in a convenient form to create epochs and\nevoked data.\n\n"
      ]
    },
    {
      "cell_type": "code",
      "execution_count": null,
      "metadata": {
        "collapsed": false
      },
      "outputs": [],
      "source": [
        "events, event_id = mne.events_from_annotations(raw)\nepochs = mne.Epochs(raw, events, event_id)\nepochs[\"Auditory\"].average().plot()"
      ]
    },
    {
      "cell_type": "markdown",
      "metadata": {},
      "source": [
        "We can easily get the :class:`mne_bids.BIDSPath` of the empty-room recording\nthat was associated with the experimental data while writing. The empty-room\ndata can then be loaded with :func:`read_raw_bids`.\n\n"
      ]
    },
    {
      "cell_type": "code",
      "execution_count": null,
      "metadata": {
        "collapsed": false
      },
      "outputs": [],
      "source": [
        "er_bids_path = bids_path.find_empty_room(use_sidecar_only=True)\ner_data = read_raw_bids(er_bids_path)\ner_data"
      ]
    },
    {
      "cell_type": "markdown",
      "metadata": {},
      "source": [
        "It is trivial to retrieve the path of the fine-calibration and crosstalk\nfiles, too.\n\n"
      ]
    },
    {
      "cell_type": "code",
      "execution_count": null,
      "metadata": {
        "collapsed": false
      },
      "outputs": [],
      "source": [
        "print(bids_path.meg_calibration_fpath)\nprint(bids_path.meg_crosstalk_fpath)"
      ]
    },
    {
      "cell_type": "markdown",
      "metadata": {},
      "source": [
        "The README created by :func:`write_raw_bids` also takes care of the citation\nfor mne-bids. If you are preparing a manuscript, please make sure to also\ncite MNE-BIDS there.\n\n"
      ]
    },
    {
      "cell_type": "code",
      "execution_count": null,
      "metadata": {
        "collapsed": false
      },
      "outputs": [],
      "source": [
        "readme = op.join(output_path, \"README\")\nwith open(readme, encoding=\"utf-8-sig\") as fid:\n    text = fid.read()\nprint(text)"
      ]
    },
    {
      "cell_type": "markdown",
      "metadata": {},
      "source": [
        "It is also generally a good idea to add a description of your dataset,\nsee the `BIDS dataset_description.json definition`_ for more information.\n\n"
      ]
    },
    {
      "cell_type": "code",
      "execution_count": null,
      "metadata": {
        "collapsed": false
      },
      "outputs": [],
      "source": [
        "how_to_acknowledge = \"\"\"\\\nIf you reference this dataset in a publication, please acknowledge its \\\nauthors and cite MNE papers: A. Gramfort, M. Luessi, E. Larson, D. Engemann, \\\nD. Strohmeier, C. Brodbeck, L. Parkkonen, M. H\u00e4m\u00e4l\u00e4inen, \\\nMNE software for processing MEG and EEG data, NeuroImage, Volume 86, \\\n1 February 2014, Pages 446-460, ISSN 1053-8119 \\\nand \\\nA. Gramfort, M. Luessi, E. Larson, D. Engemann, D. Strohmeier, C. Brodbeck, \\\nR. Goj, M. Jas, T. Brooks, L. Parkkonen, M. H\u00e4m\u00e4l\u00e4inen, MEG and EEG data \\\nanalysis with MNE-Python, Frontiers in Neuroscience, Volume 7, 2013, \\\nISSN 1662-453X\"\"\"\n\nmake_dataset_description(\n    path=bids_path.root,\n    name=task,\n    authors=[\"Alexandre Gramfort\", \"Matti H\u00e4m\u00e4l\u00e4inen\"],\n    how_to_acknowledge=how_to_acknowledge,\n    acknowledgements=\"\"\"\\\nAlexandre Gramfort, Mainak Jas, and Stefan Appelhoff prepared and updated the \\\ndata in BIDS format.\"\"\",\n    data_license=\"CC0\",\n    ethics_approvals=[\"Human Subjects Division at the University of Washington\"],\n    funding=[\n        \"NIH 5R01EB009048\",\n        \"NIH 1R01EB009048\",\n        \"NIH R01EB006385\",\n        \"NIH 1R01HD40712\",\n        \"NIH 1R01NS44319\",\n        \"NIH 2R01NS37462\",\n        \"NIH P41EB015896\",\n        \"ANR-11-IDEX-0003-02\",\n        \"ERC-StG-263584\",\n        \"ERC-StG-676943\",\n        \"ANR-14-NEUC-0002-01\",\n    ],\n    references_and_links=[\n        \"https://doi.org/10.1016/j.neuroimage.2014.02.017\",\n        \"https://doi.org/10.3389/fnins.2013.00267\",\n        \"https://mne.tools/stable/documentation/datasets.html#sample\",\n    ],\n    doi=\"doi:10.18112/openneuro.ds000248.v1.2.4\",\n    overwrite=True,\n)\ndesc_json_path = bids_path.root / \"dataset_description.json\"\nwith open(desc_json_path, encoding=\"utf-8-sig\") as fid:\n    pprint(json.loads(fid.read()))"
      ]
    },
    {
      "cell_type": "markdown",
      "metadata": {},
      "source": [
        "This should be very similar to the `ds000248 dataset_description.json`_!\n\n"
      ]
    }
  ],
  "metadata": {
    "kernelspec": {
      "display_name": "Python 3",
      "language": "python",
      "name": "python3"
    },
    "language_info": {
      "codemirror_mode": {
        "name": "ipython",
        "version": 3
      },
      "file_extension": ".py",
      "mimetype": "text/x-python",
      "name": "python",
      "nbconvert_exporter": "python",
      "pygments_lexer": "ipython3",
      "version": "3.12.2"
    }
  },
  "nbformat": 4,
  "nbformat_minor": 0
}