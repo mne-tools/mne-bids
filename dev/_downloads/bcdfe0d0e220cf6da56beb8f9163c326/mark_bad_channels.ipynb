{
  "cells": [
    {
      "cell_type": "markdown",
      "metadata": {},
      "source": [
        "\n# 03. Interactive data inspection and bad channel selection\n\nYou can use MNE-BIDS interactively inspect your  MEG or (i)EEG data.\nProblematic channels can be marked as \"bad\", for example if the connected\nsensor produced mostly noise \u2013 or no signal at all. Similarly, you can declare\nchannels as \"good\", should you discover they were incorrectly marked as bad.\nBad channel selection can also be performed non-interactively.\n\nFurthermore, you can view and edit the experimental events and mark time\nsegments as \"bad\".\n\n"
      ]
    },
    {
      "cell_type": "code",
      "execution_count": null,
      "metadata": {
        "collapsed": false
      },
      "outputs": [],
      "source": [
        "# Authors: Richard H\u00f6chenberger <richard.hoechenberger@gmail.com>\n#\n# License: BSD-3-Clause"
      ]
    },
    {
      "cell_type": "markdown",
      "metadata": {},
      "source": [
        "We will demonstrate how to mark individual channels as bad on the MNE\n\"sample\" dataset. After that, we will mark channels as good again.\n\nLet's start by importing the required modules and functions, reading the\n\"sample\" data, and writing it in the BIDS format.\n\n"
      ]
    },
    {
      "cell_type": "code",
      "execution_count": null,
      "metadata": {
        "collapsed": false
      },
      "outputs": [],
      "source": [
        "import os.path as op\nimport shutil\n\nimport mne\n\nfrom mne_bids import (\n    BIDSPath,\n    inspect_dataset,\n    mark_channels,\n    read_raw_bids,\n    write_raw_bids,\n)\n\ndata_path = mne.datasets.sample.data_path()\nraw_fname = op.join(data_path, \"MEG\", \"sample\", \"sample_audvis_raw.fif\")\nevents_fname = op.join(data_path, \"MEG\", \"sample\", \"sample_audvis_raw-eve.fif\")\nevent_id = {\n    \"Auditory/Left\": 1,\n    \"Auditory/Right\": 2,\n    \"Visual/Left\": 3,\n    \"Visual/Right\": 4,\n    \"Smiley\": 5,\n    \"Button\": 32,\n}\nbids_root = op.join(data_path, \"..\", \"MNE-sample-data-bids\")\nbids_path = BIDSPath(\n    subject=\"01\", session=\"01\", task=\"audiovisual\", run=\"01\", root=bids_root\n)"
      ]
    },
    {
      "cell_type": "markdown",
      "metadata": {},
      "source": [
        "To ensure the output path doesn't contain any leftover files from previous\ntests and example runs, we simply delete it.\n\n<div class=\"alert alert-danger\"><h4>Warning</h4><p>Do not delete directories that may contain important data!</p></div>\n\n\n"
      ]
    },
    {
      "cell_type": "code",
      "execution_count": null,
      "metadata": {
        "collapsed": false
      },
      "outputs": [],
      "source": [
        "if op.exists(bids_root):\n    shutil.rmtree(bids_root)"
      ]
    },
    {
      "cell_type": "markdown",
      "metadata": {},
      "source": [
        "Now write the raw data to BIDS.\n\n"
      ]
    },
    {
      "cell_type": "code",
      "execution_count": null,
      "metadata": {
        "collapsed": false
      },
      "outputs": [],
      "source": [
        "raw = mne.io.read_raw_fif(raw_fname, verbose=False)\nraw.info[\"line_freq\"] = 60  # Specify power line frequency as required by BIDS.\nwrite_raw_bids(\n    raw,\n    bids_path=bids_path,\n    events=events_fname,\n    event_id=event_id,\n    overwrite=True,\n    verbose=False,\n)"
      ]
    },
    {
      "cell_type": "markdown",
      "metadata": {},
      "source": [
        "## Interactive use\n\nUsing :func:`mne_bids.inspect_dataset`, we can interactively explore the raw\ndata and toggle the channel status \u2013 ``bad`` or ``good`` \u2013 by clicking on the\nrespective traces or channel names. If there are any SSP projectors stored\nwith the data, a small popup window will allow you to toggle the projectors\non and off. If you changed the selection of bad channels, you will be\nprompted whether you would like to save the changes when closing the main\nwindow. Your raw data and the `*_channels.tsv` sidecar file will be updated\nupon saving.\n\n"
      ]
    },
    {
      "cell_type": "code",
      "execution_count": null,
      "metadata": {
        "collapsed": false
      },
      "outputs": [],
      "source": [
        "inspect_dataset(bids_path)"
      ]
    },
    {
      "cell_type": "markdown",
      "metadata": {},
      "source": [
        "You can even apply frequency filters when viewing the data: A high-pass\nfilter can remove slow drifts, while a low-pass filter will get rid of\nhigh-frequency artifacts. This can make visual inspection easier. Let's\napply filters with a 1-Hz high-pass cutoff, and a 30-Hz low-pass cutoff:\n\n"
      ]
    },
    {
      "cell_type": "code",
      "execution_count": null,
      "metadata": {
        "collapsed": false
      },
      "outputs": [],
      "source": [
        "inspect_dataset(bids_path, l_freq=1.0, h_freq=30.0)"
      ]
    },
    {
      "cell_type": "markdown",
      "metadata": {},
      "source": [
        "By pressing the ``A`` key, you can toggle annotation mode to add, edit, or\nremove experimental events, or to mark entire time periods as bad. Please see\nthe `MNE-Python Annotations tutorial`_ for an introduction to the interactive\ninterface. If you're closing the main window after changing the annotations,\nyou will be prompted whether you wish to save the changes. Your raw data and\nthe `*_events.tsv` sidecar file will be updated upon saving.\n\n## Non-interactive (programmatic) bad channel selection\n\nRead the (now BIDS-formatted) data and print a list of channels currently\nmarked as bad.\n\n"
      ]
    },
    {
      "cell_type": "code",
      "execution_count": null,
      "metadata": {
        "collapsed": false
      },
      "outputs": [],
      "source": [
        "raw = read_raw_bids(bids_path=bids_path, verbose=False)\nprint(\n    f\"The following channels are currently marked as bad:\\n\"\n    f'    {\", \".join(raw.info[\"bads\"])}\\n'\n)"
      ]
    },
    {
      "cell_type": "markdown",
      "metadata": {},
      "source": [
        "So currently, two channels are marked as bad: ``EEG 053`` and ``MEG 2443``.\nLet's assume that through visual data inspection, we found that two more\nMEG channels are problematic, and we would like to mark them as bad as well.\nTo do that, we simply add them to a list, which we then pass to\n:func:`mne_bids.mark_channels`:\n\n"
      ]
    },
    {
      "cell_type": "code",
      "execution_count": null,
      "metadata": {
        "collapsed": false
      },
      "outputs": [],
      "source": [
        "bads = [\"MEG 0112\", \"MEG 0131\"]\nmark_channels(bids_path=bids_path, ch_names=bads, status=\"bad\", verbose=False)"
      ]
    },
    {
      "cell_type": "markdown",
      "metadata": {},
      "source": [
        "That's it! Let's verify the result.\n\n"
      ]
    },
    {
      "cell_type": "code",
      "execution_count": null,
      "metadata": {
        "collapsed": false
      },
      "outputs": [],
      "source": [
        "raw = read_raw_bids(bids_path=bids_path, verbose=False)\nprint(\n    f\"After marking MEG 0112 and MEG 0131 as bad, the following channels \"\n    f'are now marked as bad:\\n    {\", \".join(raw.info[\"bads\"])}\\n'\n)"
      ]
    },
    {
      "cell_type": "markdown",
      "metadata": {},
      "source": [
        "As you can see, now a total of **four** channels is marked as bad: the ones\nthat were already bad when we started \u2013 ``EEG 053`` and ``MEG 2443`` \u2013 and\nthe two channels we passed to :func:`mne_bids.mark_channels` \u2013\n``MEG 0112`` and ``MEG 0131``. This shows that marking bad channels via\n:func:`mne_bids.mark_channels`, by default, is an **additive** procedure,\nwhich allows you to mark additional channels as bad while retaining the\ninformation about all channels that had *previously* been marked as bad.\n\nIf you instead would like to **replace** the collection of bad channels\nentirely, pass the argument ``overwrite=True``:\n\n"
      ]
    },
    {
      "cell_type": "code",
      "execution_count": null,
      "metadata": {
        "collapsed": false
      },
      "outputs": [],
      "source": [
        "bads = [\"MEG 0112\", \"MEG 0131\"]\nmark_channels(bids_path=bids_path, ch_names=bads, status=\"bad\", verbose=False)\n\nraw = read_raw_bids(bids_path=bids_path, verbose=False)\nprint(\n    f\"After marking MEG 0112 and MEG 0131 as bad and passing \"\n    f\"`overwrite=True`, the following channels \"\n    f'are now marked as bad:\\n    {\", \".join(raw.info[\"bads\"])}\\n'\n)"
      ]
    },
    {
      "cell_type": "markdown",
      "metadata": {},
      "source": [
        "Lastly, if you're looking for a way to mark all channels as good, simply\npass an empty list as ``ch_names``, combined with ``overwrite=True``:\n\n"
      ]
    },
    {
      "cell_type": "code",
      "execution_count": null,
      "metadata": {
        "collapsed": false
      },
      "outputs": [],
      "source": [
        "bads = []\nmark_channels(bids_path=bids_path, ch_names=bads, status=\"bad\", verbose=False)\n\nraw = read_raw_bids(bids_path=bids_path, verbose=False)\nprint(\n    f\"After passing `ch_names=[]` and `overwrite=True`, the following \"\n    f'channels are now marked as bad:\\n    {\", \".join(raw.info[\"bads\"])}\\n'\n)"
      ]
    }
  ],
  "metadata": {
    "kernelspec": {
      "display_name": "Python 3",
      "language": "python",
      "name": "python3"
    },
    "language_info": {
      "codemirror_mode": {
        "name": "ipython",
        "version": 3
      },
      "file_extension": ".py",
      "mimetype": "text/x-python",
      "name": "python",
      "nbconvert_exporter": "python",
      "pygments_lexer": "ipython3",
      "version": "3.12.2"
    }
  },
  "nbformat": 4,
  "nbformat_minor": 0
}