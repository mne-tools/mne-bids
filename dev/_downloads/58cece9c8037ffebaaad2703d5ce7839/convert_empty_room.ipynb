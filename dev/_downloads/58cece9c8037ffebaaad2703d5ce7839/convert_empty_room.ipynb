{
  "cells": [
    {
      "cell_type": "markdown",
      "metadata": {},
      "source": [
        "\n\n# 09. Manually storing empty room data\n\nThis example demonstrates how to store empty room data \"manually\" in the BIDS\nformat and how to retrieve them.\n"
      ]
    },
    {
      "cell_type": "code",
      "execution_count": null,
      "metadata": {
        "collapsed": false
      },
      "outputs": [],
      "source": [
        "# Authors: Mainak Jas <mainakjas@gmail.com>\n#\n# License: BSD-3-Clause"
      ]
    },
    {
      "cell_type": "markdown",
      "metadata": {},
      "source": [
        "We are dealing with MEG data, which is often accompanied by so-called\n\"empty room\" recordings for noise modeling. Below we show that we can use\nMNE-BIDS to also save such a recording with the just converted data.\n\n<div class=\"alert alert-info\"><h4>Note</h4><p>The steps described below should only be followed if you intend to store\n   empty-room and experimental data in **separate** steps for some reason.\n   Otherwise, we recommend you store both with a **single** call to\n   :func:`mne_bids.write_raw_bids` by passing the empty-room raw data via the\n   ``empty_room`` parameter, as demonstrated in `ex-convert-mne-sample`.\n   What is described in the example below is targeted towards advanced users\n   only.</p></div>\n\nLet us first import mne_bids.\n\n"
      ]
    },
    {
      "cell_type": "code",
      "execution_count": null,
      "metadata": {
        "collapsed": false
      },
      "outputs": [],
      "source": [
        "import os.path as op\nimport shutil\nfrom datetime import datetime, timezone\n\nimport mne\nfrom mne.datasets import sample\n\nfrom mne_bids import BIDSPath, print_dir_tree, read_raw_bids, write_raw_bids"
      ]
    },
    {
      "cell_type": "markdown",
      "metadata": {},
      "source": [
        "And define the paths and event_id dictionary.\n\n"
      ]
    },
    {
      "cell_type": "code",
      "execution_count": null,
      "metadata": {
        "collapsed": false
      },
      "outputs": [],
      "source": [
        "data_path = sample.data_path()\nraw_fname = op.join(data_path, \"MEG\", \"sample\", \"sample_audvis_raw.fif\")\n\nbids_root = op.join(data_path, \"..\", \"MNE-sample-data-bids\")"
      ]
    },
    {
      "cell_type": "markdown",
      "metadata": {},
      "source": [
        "To ensure the output path doesn't contain any leftover files from previous\ntests and example runs, we simply delete it.\n\n<div class=\"alert alert-danger\"><h4>Warning</h4><p>Do not delete directories that may contain important data!</p></div>\n\n\n"
      ]
    },
    {
      "cell_type": "code",
      "execution_count": null,
      "metadata": {
        "collapsed": false
      },
      "outputs": [],
      "source": [
        "if op.exists(bids_root):\n    shutil.rmtree(bids_root)"
      ]
    },
    {
      "cell_type": "markdown",
      "metadata": {},
      "source": [
        "Specify the raw file and write the BIDS data.\n\n"
      ]
    },
    {
      "cell_type": "code",
      "execution_count": null,
      "metadata": {
        "collapsed": false
      },
      "outputs": [],
      "source": [
        "raw = mne.io.read_raw_fif(raw_fname)\nraw.info[\"line_freq\"] = 60  # specify power line frequency as required by BIDS\n\nbids_path = BIDSPath(\n    subject=\"01\", session=\"01\", task=\"audiovisual\", run=\"01\", root=bids_root\n)\nwrite_raw_bids(raw, bids_path, overwrite=True)"
      ]
    },
    {
      "cell_type": "markdown",
      "metadata": {},
      "source": [
        "Specify some empty room data and run BIDS conversion on it.\n\n"
      ]
    },
    {
      "cell_type": "code",
      "execution_count": null,
      "metadata": {
        "collapsed": false
      },
      "outputs": [],
      "source": [
        "er_raw_fname = op.join(data_path, \"MEG\", \"sample\", \"ernoise_raw.fif\")\ner_raw = mne.io.read_raw_fif(er_raw_fname)\ner_raw.info[\"line_freq\"] = 60  # specify power line frequency as req. by BIDS\n\n# For empty room data we need to specify the recording date in the format\n# YYYYMMDD for the session id.\ner_date = er_raw.info[\"meas_date\"].strftime(\"%Y%m%d\")\nprint(er_date)"
      ]
    },
    {
      "cell_type": "markdown",
      "metadata": {},
      "source": [
        "The measurement date is\n\n"
      ]
    },
    {
      "cell_type": "code",
      "execution_count": null,
      "metadata": {
        "collapsed": false
      },
      "outputs": [],
      "source": [
        "raw_date = raw.info[\"meas_date\"].strftime(\"%Y%m%d\")\nprint(raw_date)"
      ]
    },
    {
      "cell_type": "markdown",
      "metadata": {},
      "source": [
        "We also need to specify that the subject ID is 'emptyroom', and that the\ntask is 'noise' (these are BIDS rules).\n\n"
      ]
    },
    {
      "cell_type": "code",
      "execution_count": null,
      "metadata": {
        "collapsed": false
      },
      "outputs": [],
      "source": [
        "er_bids_path = BIDSPath(\n    subject=\"emptyroom\", session=er_date, task=\"noise\", root=bids_root\n)\nwrite_raw_bids(er_raw, er_bids_path, overwrite=True)"
      ]
    },
    {
      "cell_type": "markdown",
      "metadata": {},
      "source": [
        "Just to illustrate, we can save more than one empty room file for different\ndates. Here, they will all contain the same data but in your study, they\nwill be different on different days.\n\n"
      ]
    },
    {
      "cell_type": "code",
      "execution_count": null,
      "metadata": {
        "collapsed": false
      },
      "outputs": [],
      "source": [
        "dates = [\"20021204\", \"20021201\", \"20021001\"]\n\nfor date in dates:\n    er_bids_path.update(session=date)\n    er_meas_date = datetime.strptime(date, \"%Y%m%d\")\n    er_raw.set_meas_date(er_meas_date.replace(tzinfo=timezone.utc))\n    write_raw_bids(er_raw, er_bids_path, overwrite=True)"
      ]
    },
    {
      "cell_type": "markdown",
      "metadata": {},
      "source": [
        "Let us look at the directory structure\n\n"
      ]
    },
    {
      "cell_type": "code",
      "execution_count": null,
      "metadata": {
        "collapsed": false
      },
      "outputs": [],
      "source": [
        "print_dir_tree(bids_root)"
      ]
    },
    {
      "cell_type": "markdown",
      "metadata": {},
      "source": [
        "To get an accurate estimate of the noise, it is important that the empty\nroom recording be as close in date as the raw data.\nWe can retrieve the basename corresponding to the empty room\nrecording that is closest in time to the experimental measurement.\n\n"
      ]
    },
    {
      "cell_type": "code",
      "execution_count": null,
      "metadata": {
        "collapsed": false
      },
      "outputs": [],
      "source": [
        "er_bids_path = bids_path.find_empty_room()\nprint(er_bids_path)"
      ]
    },
    {
      "cell_type": "markdown",
      "metadata": {},
      "source": [
        "Finally, we can read the empty room file using\n\n"
      ]
    },
    {
      "cell_type": "code",
      "execution_count": null,
      "metadata": {
        "collapsed": false
      },
      "outputs": [],
      "source": [
        "raw = read_raw_bids(bids_path=er_bids_path)\nprint(raw)"
      ]
    }
  ],
  "metadata": {
    "kernelspec": {
      "display_name": "Python 3",
      "language": "python",
      "name": "python3"
    },
    "language_info": {
      "codemirror_mode": {
        "name": "ipython",
        "version": 3
      },
      "file_extension": ".py",
      "mimetype": "text/x-python",
      "name": "python",
      "nbconvert_exporter": "python",
      "pygments_lexer": "ipython3",
      "version": "3.12.2"
    }
  },
  "nbformat": 4,
  "nbformat_minor": 0
}