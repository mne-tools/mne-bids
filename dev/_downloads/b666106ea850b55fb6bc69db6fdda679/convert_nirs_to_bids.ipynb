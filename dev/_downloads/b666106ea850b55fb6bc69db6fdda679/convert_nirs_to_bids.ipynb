{
  "cells": [
    {
      "cell_type": "markdown",
      "metadata": {},
      "source": [
        "\n# 13. Convert NIRS data to BIDS format\n\nIn this example, we use MNE-BIDS to create a BIDS-compatible directory of NIRS\ndata. Specifically, we will follow these steps:\n\n1. Download some NIRS data\n\n2. Load the data, extract information, and save it in a new BIDS directory.\n\n3. Check the result and compare it with the standard.\n\n4. Cite ``mne-bids``.\n\n.. currentmodule:: mne_bids\n"
      ]
    },
    {
      "cell_type": "code",
      "execution_count": null,
      "metadata": {
        "collapsed": false
      },
      "outputs": [],
      "source": [
        "# Authors: Robert Luke <code@robertluke.net>\n#\n# License: BSD-3-Clause"
      ]
    },
    {
      "cell_type": "markdown",
      "metadata": {},
      "source": [
        "We are importing everything we need for this example:\n\n"
      ]
    },
    {
      "cell_type": "code",
      "execution_count": null,
      "metadata": {
        "collapsed": false
      },
      "outputs": [],
      "source": [
        "import os.path as op\nimport pathlib\nimport shutil\n\nimport mne\nfrom mne_nirs import datasets  # For convenient downloading of example data\n\nfrom mne_bids import BIDSPath, print_dir_tree, write_raw_bids\nfrom mne_bids.stats import count_events"
      ]
    },
    {
      "cell_type": "markdown",
      "metadata": {},
      "source": [
        "## Download the data\n\nFirst, we need some data to work with. We will use the\n[Finger Tapping Dataset](https://github.com/rob-luke/BIDS-NIRS-Tapping)\navailable on GitHub.\nWe will use the MNE-NIRS package which includes convenient functions to\ndownload openly available datasets.\n\n"
      ]
    },
    {
      "cell_type": "code",
      "execution_count": null,
      "metadata": {
        "collapsed": false
      },
      "outputs": [],
      "source": [
        "data_dir = pathlib.Path(datasets.fnirs_motor_group.data_path())\n\n# Let's see whether the data has been downloaded using a quick visualization\n# of the directory tree.\nprint_dir_tree(data_dir)"
      ]
    },
    {
      "cell_type": "markdown",
      "metadata": {},
      "source": [
        "The data are already in BIDS format. However, we will just use one of the\nSNIRF files and demonstrate how this could be used to generate a new BIDS\ncompliant dataset from this single file.\n\n"
      ]
    },
    {
      "cell_type": "code",
      "execution_count": null,
      "metadata": {
        "collapsed": false
      },
      "outputs": [],
      "source": [
        "# Specify file to use as input to BIDS generation process\nfile_path = data_dir / \"sub-01\" / \"nirs\" / \"sub-01_task-tapping_nirs.snirf\""
      ]
    },
    {
      "cell_type": "markdown",
      "metadata": {},
      "source": [
        "## Convert to BIDS\n\nLet's start with loading the data and updating the annotations.\nWe are reading the data using MNE-Python's ``io`` module and the\n:func:`mne.io.read_raw_snirf` function.\nNote that we must use the ``preload=False`` parameter, which is the default\nin MNE-Python.\nIt prevents the data from being loaded and modified when converting to BIDS.\n\n"
      ]
    },
    {
      "cell_type": "code",
      "execution_count": null,
      "metadata": {
        "collapsed": false
      },
      "outputs": [],
      "source": [
        "# Load the data\nraw = mne.io.read_raw_snirf(file_path, preload=False)\nraw.info[\"line_freq\"] = 50  # specify power line frequency as required by BIDS\n\n# Sanity check, show the optode positions\nraw.plot_sensors()"
      ]
    },
    {
      "cell_type": "markdown",
      "metadata": {},
      "source": [
        "I also like to rename the annotations to something meaningful and\nset the duration of each stimulus\n\n"
      ]
    },
    {
      "cell_type": "code",
      "execution_count": null,
      "metadata": {
        "collapsed": false
      },
      "outputs": [],
      "source": [
        "trigger_info = {\"1.0\": \"Control\", \"2.0\": \"Tapping/Left\", \"3.0\": \"Tapping/Right\"}\nraw.annotations.rename(trigger_info)\nraw.annotations.set_durations(5.0)"
      ]
    },
    {
      "cell_type": "markdown",
      "metadata": {},
      "source": [
        "With these steps, we have everything to start a new BIDS directory using\nour data.\n\nTo do that, we can use :func:`write_raw_bids`\n\nGenerally, :func:`write_raw_bids` tries to extract as much\nmeta data as possible from the raw data and then formats it in a BIDS\ncompatible way. :func:`write_raw_bids` takes a bunch of inputs, most of\nwhich are however optional. The required inputs are:\n\n* :code:`raw`\n* :code:`bids_basename`\n* :code:`bids_root`\n\n... as you can see in the docstring:\n\n"
      ]
    },
    {
      "cell_type": "code",
      "execution_count": null,
      "metadata": {
        "collapsed": false
      },
      "outputs": [],
      "source": [
        "print(write_raw_bids.__doc__)\n\n# zero padding to account for >100 subjects in this dataset\nsubject_id = \"01\"\n\n# define a task name and a directory where to save the data to\ntask = \"Tapping\"\nbids_root = data_dir.with_name(data_dir.name + \"-bids\")\nprint(bids_root)"
      ]
    },
    {
      "cell_type": "markdown",
      "metadata": {},
      "source": [
        "To ensure the output path doesn't contain any leftover files from previous\ntests and example runs, we simply delete it.\n\n<div class=\"alert alert-danger\"><h4>Warning</h4><p>Do not delete directories that may contain important data!</p></div>\n\n\n"
      ]
    },
    {
      "cell_type": "code",
      "execution_count": null,
      "metadata": {
        "collapsed": false
      },
      "outputs": [],
      "source": [
        "if op.exists(bids_root):\n    shutil.rmtree(bids_root)"
      ]
    },
    {
      "cell_type": "markdown",
      "metadata": {},
      "source": [
        "The data contains annotations; which will be converted to events\nautomatically by MNE-BIDS when writing the BIDS data:\n\n"
      ]
    },
    {
      "cell_type": "code",
      "execution_count": null,
      "metadata": {
        "collapsed": false
      },
      "outputs": [],
      "source": [
        "print(raw.annotations)"
      ]
    },
    {
      "cell_type": "markdown",
      "metadata": {},
      "source": [
        "Finally, let's write the BIDS data!\n\n"
      ]
    },
    {
      "cell_type": "code",
      "execution_count": null,
      "metadata": {
        "collapsed": false
      },
      "outputs": [],
      "source": [
        "bids_path = BIDSPath(subject=subject_id, task=task, root=bids_root)\nwrite_raw_bids(raw, bids_path, overwrite=True)"
      ]
    },
    {
      "cell_type": "markdown",
      "metadata": {},
      "source": [
        "What does our fresh BIDS directory look like?\n\n"
      ]
    },
    {
      "cell_type": "code",
      "execution_count": null,
      "metadata": {
        "collapsed": false
      },
      "outputs": [],
      "source": [
        "print_dir_tree(bids_root)"
      ]
    },
    {
      "cell_type": "markdown",
      "metadata": {},
      "source": [
        "Finally let's get an overview of the events on the whole dataset\n\n"
      ]
    },
    {
      "cell_type": "code",
      "execution_count": null,
      "metadata": {
        "collapsed": false
      },
      "outputs": [],
      "source": [
        "counts = count_events(bids_root)\ncounts"
      ]
    },
    {
      "cell_type": "markdown",
      "metadata": {},
      "source": [
        "We can see that MNE-BIDS wrote several important files related to subject 1\nfor us:\n\n* ``optodes.tsv`` containing the optode coordinates and\n  ``coordsystem.json``, which contains the metadata about the optode\n  coordinates.\n* The actual SNIRF data file (with a proper BIDS name) and an accompanying\n  ``*_nirs.json`` file that contains metadata about the NIRS recording.\n* The ``*scans.json`` file lists all data recordings with their acquisition\n  date. This file becomes more handy once there are multiple sessions and\n  recordings to keep track of.\n* And finally, ``channels.tsv`` and ``events.tsv`` which contain even further\n  metadata.\n\nNext to the subject specific files, MNE-BIDS also created several experiment\nspecific files. However, we will not go into detail for them in this example.\n\n## Cite mne-bids\nAfter a lot of work was done by MNE-BIDS, it's fair to cite the software\nwhen preparing a manuscript and/or a dataset publication.\n\nWe can see that the appropriate citations are already written in the\n``README`` file.\n\nIf you are preparing a manuscript, please make sure to also cite MNE-BIDS\nthere.\n\n"
      ]
    },
    {
      "cell_type": "code",
      "execution_count": null,
      "metadata": {
        "collapsed": false
      },
      "outputs": [],
      "source": [
        "readme = op.join(bids_root, \"README\")\nwith open(readme, encoding=\"utf-8-sig\") as fid:\n    text = fid.read()\nprint(text)"
      ]
    },
    {
      "cell_type": "markdown",
      "metadata": {},
      "source": [
        "Now it's time to manually check the BIDS directory and the meta files to add\nall the information that MNE-BIDS could not infer. For instance, you must\ndescribe Authors.\n\nRemember that there is a convenient javascript tool to validate all your BIDS\ndirectories called the \"BIDS-validator\", available as a web version and a\ncommand line tool:\n\nWeb version: https://bids-standard.github.io/bids-validator/\n\nCommand line tool: https://www.npmjs.com/package/bids-validator\n\n"
      ]
    }
  ],
  "metadata": {
    "kernelspec": {
      "display_name": "Python 3",
      "language": "python",
      "name": "python3"
    },
    "language_info": {
      "codemirror_mode": {
        "name": "ipython",
        "version": 3
      },
      "file_extension": ".py",
      "mimetype": "text/x-python",
      "name": "python",
      "nbconvert_exporter": "python",
      "pygments_lexer": "ipython3",
      "version": "3.12.2"
    }
  },
  "nbformat": 4,
  "nbformat_minor": 0
}