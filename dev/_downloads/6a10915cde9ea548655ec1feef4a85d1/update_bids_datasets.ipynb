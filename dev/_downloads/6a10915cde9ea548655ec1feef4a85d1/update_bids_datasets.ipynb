{
  "cells": [
    {
      "cell_type": "markdown",
      "metadata": {},
      "source": [
        "\n# 12. Updating BIDS datasets\n\nWhen working with electrophysiological data in the BIDS format, we usually\ndo not have all the metadata stored in the ``Raw`` mne-python object.\nWe can update the BIDS sidecar files via the ``update_sidecar_json`` function.\n\nIn this tutorial, we show how ``update_sidecar_json`` can be used to update and\nmodify BIDS-formatted data.\n"
      ]
    },
    {
      "cell_type": "code",
      "execution_count": null,
      "metadata": {
        "collapsed": false
      },
      "outputs": [],
      "source": [
        "# Authors: Adam Li <adam2392@gmail.com>\n#          mne-bids developers\n#\n# License: BSD-3-Clause"
      ]
    },
    {
      "cell_type": "markdown",
      "metadata": {},
      "source": [
        "## Imports\nWe are importing everything we need for this example:\n\n"
      ]
    },
    {
      "cell_type": "code",
      "execution_count": null,
      "metadata": {
        "collapsed": false
      },
      "outputs": [],
      "source": [
        "from mne.datasets import somato\n\nfrom mne_bids import (\n    find_matching_paths,\n    make_report,\n    print_dir_tree,\n    read_raw_bids,\n    update_sidecar_json,\n)"
      ]
    },
    {
      "cell_type": "markdown",
      "metadata": {},
      "source": [
        "We will be using the [MNE somato data](mne_somato_data_), which\nis already stored in BIDS format.\nFor more information, you can check out the\nrespective `example <ex-convert-mne-sample>`.\n\n## Download the ``somato`` BIDS dataset\n\nDownload the data if it hasn't been downloaded already, and return the path\nto the download directory. This directory is the so-called `root` of this\nBIDS dataset.\n\n"
      ]
    },
    {
      "cell_type": "code",
      "execution_count": null,
      "metadata": {
        "collapsed": false
      },
      "outputs": [],
      "source": [
        "bids_root = somato.data_path()"
      ]
    },
    {
      "cell_type": "markdown",
      "metadata": {},
      "source": [
        "## Explore the dataset contents\n\nWe can use MNE-BIDS to print a tree of all\nincluded files and folders. We pass the ``max_depth`` parameter to\n`mne_bids.print_dir_tree` to the output to three levels of folders, for\nbetter readability in this example.\n\n"
      ]
    },
    {
      "cell_type": "code",
      "execution_count": null,
      "metadata": {
        "collapsed": false
      },
      "outputs": [],
      "source": [
        "print_dir_tree(bids_root, max_depth=3)\n\n# We can generate a report of the existing dataset\nprint(make_report(bids_root))"
      ]
    },
    {
      "cell_type": "markdown",
      "metadata": {},
      "source": [
        "## Update the sidecar JSON dataset contents\n\nWe can use MNE-BIDS to update all sidecar files for a matching\n``BIDSPath`` object. We then pass in a dictionary (or JSON file) to update\nall matching metadata fields within the BIDS dataset.\n\n"
      ]
    },
    {
      "cell_type": "code",
      "execution_count": null,
      "metadata": {
        "collapsed": false
      },
      "outputs": [],
      "source": [
        "# Search for all matching BIDSPaths in the root directory\nbids_root = somato.data_path()\nsuffix = \"meg\"\nextension = \".fif\"\n\nbids_paths = find_matching_paths(bids_root, suffixes=suffix, extensions=extension)\n# We can now retrieve a list of all MEG-related files in the dataset:\nprint(bids_paths)\n\n# Define a sidecar update as a dictionary\nentries = {\n    \"PowerLineFrequency\": 60,\n    \"Manufacturer\": \"MEGIN\",\n    \"InstitutionName\": \"Martinos Center\",\n}\n\n# Note: ``update_sidecar_json`` will perform essentially a\n# dictionary update to your sidecar json file, so be absolutely sure\n# that the ``entries`` are defined with the proper fields specified\n# by BIDS. For example, if you are updating the ``coordsystem.json``\n# file, then you don't want to include ``PowerLineFrequency`` in\n# ``entries``.\n#\n# Now update all sidecar fields according to our updating dictionary\nbids_path = bids_paths[0]\nsidecar_path = bids_path.copy().update(extension=\".json\")\nupdate_sidecar_json(bids_path=sidecar_path, entries=entries)"
      ]
    },
    {
      "cell_type": "markdown",
      "metadata": {},
      "source": [
        "## Read the updated dataset\n\n"
      ]
    },
    {
      "cell_type": "code",
      "execution_count": null,
      "metadata": {
        "collapsed": false
      },
      "outputs": [],
      "source": [
        "# new line frequency is now 60 Hz\nraw = read_raw_bids(bids_path=bids_path)\nprint(raw.info[\"line_freq\"])"
      ]
    },
    {
      "cell_type": "markdown",
      "metadata": {},
      "source": [
        "Generate a new report based on the updated metadata.\n\n"
      ]
    },
    {
      "cell_type": "code",
      "execution_count": null,
      "metadata": {
        "collapsed": false
      },
      "outputs": [],
      "source": [
        "# The manufacturer was changed to ``MEGIN``\nprint(make_report(bids_root))"
      ]
    },
    {
      "cell_type": "markdown",
      "metadata": {},
      "source": [
        "We can revert the changes by updating the sidecar again.\n\n"
      ]
    },
    {
      "cell_type": "code",
      "execution_count": null,
      "metadata": {
        "collapsed": false
      },
      "outputs": [],
      "source": [
        "# update the sidecar data to have a new PowerLineFrequency\nentries[\"Manufacturer\"] = \"Elekta\"\nentries[\"PowerLineFrequency\"] = 50\nupdate_sidecar_json(bids_path=sidecar_path, entries=entries)"
      ]
    },
    {
      "cell_type": "markdown",
      "metadata": {},
      "source": [
        "Now let us inspect the dataset again by generating the report again. Now that\n``update_sidecar_json`` was called, the metadata will be updated.\n\n"
      ]
    },
    {
      "cell_type": "code",
      "execution_count": null,
      "metadata": {
        "collapsed": false
      },
      "outputs": [],
      "source": [
        "# The power line frequency should now change back to 50 Hz\nraw = read_raw_bids(bids_path=bids_path)\nprint(raw.info[\"line_freq\"])\n\n# Generate the report with updated fields\nprint(make_report(bids_root))"
      ]
    },
    {
      "cell_type": "markdown",
      "metadata": {},
      "source": [
        ".. LINKS\n\n   https://mne.tools/dev/generated/mne.datasets.somato.data_path.html\n\n\n"
      ]
    }
  ],
  "metadata": {
    "kernelspec": {
      "display_name": "Python 3",
      "language": "python",
      "name": "python3"
    },
    "language_info": {
      "codemirror_mode": {
        "name": "ipython",
        "version": 3
      },
      "file_extension": ".py",
      "mimetype": "text/x-python",
      "name": "python",
      "nbconvert_exporter": "python",
      "pygments_lexer": "ipython3",
      "version": "3.12.2"
    }
  },
  "nbformat": 4,
  "nbformat_minor": 0
}