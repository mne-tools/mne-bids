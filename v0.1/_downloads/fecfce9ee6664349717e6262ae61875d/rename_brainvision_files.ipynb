{
  "cells": [
    {
      "cell_type": "code",
      "execution_count": null,
      "metadata": {
        "collapsed": false
      },
      "outputs": [],
      "source": [
        "%matplotlib inline"
      ]
    },
    {
      "cell_type": "markdown",
      "metadata": {},
      "source": [
        "\n# Rename BrainVision EEG data files\n\n\nThe BrainVision file format is one of the recommended formats to store EEG data\nwithin a BIDS directory. To organize EEG data in BIDS format, it is often\nnecessary to rename the files. In the case of BrainVision files, we would have\nto rename multiple files for each dataset instance (i.e., once per recording):\n\n1. A text header file (``.vhdr``) containing meta data\n2. A text marker file (``.vmrk``) containing information about events in the\n   data\n3. A binary data file (``.eeg``) containing the voltage values of the EEG\n\nThe problem is that the three files contain internal links that guide a\npotential data reading software. If we just rename the three files without also\nadjusting the internal links, we corrupt the file format.\n\nIn this example, we use MNE-BIDS to rename BrainVision data files including a\nrepair of the internal file pointers.\n\n"
      ]
    },
    {
      "cell_type": "code",
      "execution_count": null,
      "metadata": {
        "collapsed": false
      },
      "outputs": [],
      "source": [
        "# Authors: Stefan Appelhoff <stefan.appelhoff@mailbox.org>\n# License: BSD (3-clause)"
      ]
    },
    {
      "cell_type": "markdown",
      "metadata": {},
      "source": [
        "We are importing everything we need for this example:\n\n"
      ]
    },
    {
      "cell_type": "code",
      "execution_count": null,
      "metadata": {
        "collapsed": false
      },
      "outputs": [],
      "source": [
        "import os\n\nfrom numpy.testing import assert_array_equal\nfrom mne.io import read_raw_brainvision\n\nfrom mne_bids.datasets import fetch_brainvision_testing_data\nfrom mne_bids.utils import copyfile_brainvision"
      ]
    },
    {
      "cell_type": "markdown",
      "metadata": {},
      "source": [
        "Step 1: Download some example data\n----------------------------------\nTo demonstrate the MNE-BIDS functions, we need some testing data. Here, we\nwill use data that is shipped with MNE-Python. Feel free to use your own\nBrainVision data.\n\n"
      ]
    },
    {
      "cell_type": "code",
      "execution_count": null,
      "metadata": {
        "collapsed": false
      },
      "outputs": [],
      "source": [
        "examples_dir = fetch_brainvision_testing_data()"
      ]
    },
    {
      "cell_type": "markdown",
      "metadata": {},
      "source": [
        "Step 2: Rename the recording\n----------------------------------\nAbove, at the top of the example, we imported ``copyfile_brainvision`` from\nthe MNE-BIDS ``utils.py`` module. This function takes two arguments as\ninput: First, the path to the existing .vhdr file. And second, the path to\nthe future .vhdr file.\n\n``copyfile_brainvision`` will then create three new files (.vhdr, .vmrk, and\n.eeg) with the new names as provided with the second argument.\n\nHere, we rename test.vhdr to test_renamed.vhdr:\n\n"
      ]
    },
    {
      "cell_type": "code",
      "execution_count": null,
      "metadata": {
        "collapsed": false
      },
      "outputs": [],
      "source": [
        "vhdr_file = os.path.join(examples_dir, 'test.vhdr')\nvhdr_file_renamed = os.path.join(examples_dir, 'test_renamed.vhdr')\ncopyfile_brainvision(vhdr_file, vhdr_file_renamed)"
      ]
    },
    {
      "cell_type": "markdown",
      "metadata": {},
      "source": [
        "Step 3: Assert that the renamed data can be read by a software\n--------------------------------------------------------------\nFinally, let's use MNE-Python to read in both, the original BrainVision data\nas well as the renamed data. They should be the same.\n\n"
      ]
    },
    {
      "cell_type": "code",
      "execution_count": null,
      "metadata": {
        "collapsed": false
      },
      "outputs": [],
      "source": [
        "raw = read_raw_brainvision(vhdr_file)\nraw_renamed = read_raw_brainvision(vhdr_file_renamed)\n\nassert_array_equal(raw.get_data(), raw_renamed.get_data())"
      ]
    },
    {
      "cell_type": "markdown",
      "metadata": {},
      "source": [
        "Further information\n-------------------\nThere are alternative options to rename your BrainVision files. You could\nfor example check out the\n`BVARENAMER <https://github.com/stefanSchinkel/bvarenamer>`_ by Stefan\nSchinkel.\n\nLastly, there is a tool to check the integrity of your BrainVision files.\nFor that, see the\n`BrainVision Validator <https://github.com/sappelhoff/brainvision-validator>`_\n\n"
      ]
    }
  ],
  "metadata": {
    "kernelspec": {
      "display_name": "Python 3",
      "language": "python",
      "name": "python3"
    },
    "language_info": {
      "codemirror_mode": {
        "name": "ipython",
        "version": 3
      },
      "file_extension": ".py",
      "mimetype": "text/x-python",
      "name": "python",
      "nbconvert_exporter": "python",
      "pygments_lexer": "ipython3",
      "version": "3.6.10"
    }
  },
  "nbformat": 4,
  "nbformat_minor": 0
}